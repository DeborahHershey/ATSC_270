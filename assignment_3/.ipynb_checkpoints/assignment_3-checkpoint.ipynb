{
 "cells": [
  {
   "cell_type": "markdown",
   "id": "bd61f82f",
   "metadata": {},
   "source": [
    "# ASSIGNMENT #3 - ATMOSPHERIC SOUNDINGS #\n",
    "Due: 04 March 2023 @ 11:59p"
   ]
  },
  {
   "cell_type": "markdown",
   "id": "816b3dd4",
   "metadata": {},
   "source": [
    "Purpose:\\\n",
    "The purpose of this assignment is to continue to strengthen skills with reading in data and begin to familiarize with plotting data on standard plots, skew-t log-p diagrams and hodographs.\n",
    "\n",
    "Overview:\\\n",
    "In this assignment you will read in atmospheric sounding data and plot that data using several methods.\n",
    "\n",
    "\n",
    "| | UPDATE TO YOUR INFORMATION | \n",
    "| :- | :- |\n",
    "| Created By | Jared W. Marquis |\n",
    "| Creation Date | 17 January 2024 |\n",
    "| Course | ATSC 270 - Computer Concepts in Meteorology |"
   ]
  },
  {
   "cell_type": "code",
   "execution_count": 1,
   "id": "eb870142",
   "metadata": {},
   "outputs": [],
   "source": [
    "### UPDATE TO YOUR INFORMATION ###\n",
    "#information allowing anyone with the code to print the author and contact information\n",
    "__author__    = \"Jared W. Marquis & Deborah Hershey\"\n",
    "__contact__   = \"jared.marquis@und.edu & deborah.hershey@und.edu\""
   ]
  },
  {
   "cell_type": "markdown",
   "id": "7dec3f1b",
   "metadata": {},
   "source": [
    "### IMPORT REQUIRED LIBRARIES ###"
   ]
  },
  {
   "cell_type": "code",
   "execution_count": 2,
   "id": "b4b5cb45",
   "metadata": {},
   "outputs": [],
   "source": [
    "import numpy as np\n",
    "import metpy.calc as mpcalc\n",
    "from metpy.units import units\n",
    "from metpy.plots import Hodograph, SkewT\n",
    "import pandas as pd\n",
    "import matplotlib.pyplot as plt\n",
    "import matplotlib.gridspec as gridspec"
   ]
  },
  {
   "cell_type": "markdown",
   "id": "1df8fe8f",
   "metadata": {},
   "source": [
    "### OPEN SOUNDING CSV FILE ###\n",
    "Open the CSV file you created last lab.  Make sure to copy it into this directory."
   ]
  },
  {
   "cell_type": "code",
   "execution_count": 5,
   "id": "808daf73",
   "metadata": {},
   "outputs": [],
   "source": [
    "file = open(\"/home/deb/ATSC_270/assignment_2/KBIS_sounding.csv\",'r').readlines()"
   ]
  },
  {
   "cell_type": "markdown",
   "id": "7c16f59b",
   "metadata": {},
   "source": [
    "### EXTRACT VARIABLES AND ADD UNITS ###\n",
    "make sure winds are converted to knots"
   ]
  },
  {
   "cell_type": "code",
   "execution_count": 17,
   "id": "11986b6a",
   "metadata": {},
   "outputs": [
    {
     "name": "stdout",
     "output_type": "stream",
     "text": [
      "[nan nan nan 4.52915766738661 nan nan 7.075593952483802 nan nan nan nan 31.1792656587473 nan nan 65.04103671706264 nan nan nan 102.32397408207345 115.89200863930886 nan 109.22462203023758 nan nan nan 91.78833693304536 nan nan nan nan nan nan 93.65442764578835 nan nan nan nan nan 81.00000000000001 nan nan 87.92008639308855 nan nan nan 96.22030237580994 nan 99.6025917926566 94.14038876889849 nan] knot\n"
     ]
    }
   ],
   "source": [
    "#grabs the first line which is the title of the data\n",
    "\n",
    "data = pd.read_csv(\"/home/deb/ATSC_270/assignment_2/KBIS_sounding.csv\",header=1)\n",
    "#print(data)\n",
    "\n",
    "#add units\n",
    "\n",
    "#separating variables\n",
    "pressure = data['pressure[mb]'].values\n",
    "pressure = pressure*units('millibars')\n",
    "height = data['height[m]'].values\n",
    "height = height*units('meters')\n",
    "temp = data['temperature[degC]'].values\n",
    "temp = temp*units('degC')\n",
    "dwp = data['dewpoint[degC]'].values\n",
    "dwp = dwp*units('degC')\n",
    "u = data['u-wind[m/s]'].values\n",
    "u = u*(units('meters')/units('seconds'))\n",
    "u = u.to('knots')\n",
    "v = data['v-wind[m/s]'].values\n",
    "v = v*(units('meters')/units('seconds'))\n",
    "v = v.to('knots')\n",
    "\n",
    "#assigning units\n",
    "print(v)"
   ]
  },
  {
   "cell_type": "markdown",
   "id": "4738eadb",
   "metadata": {},
   "source": [
    "### PLOT TEMPERATURE & DEWPOINT VS HEIGHT ###"
   ]
  },
  {
   "cell_type": "code",
   "execution_count": null,
   "id": "05bd41f9",
   "metadata": {},
   "outputs": [],
   "source": [
    "#create a figure\n",
    "#create subplot\n",
    "\n",
    "fig, ax = plt.subplots()\n",
    "\n",
    "#plot temperature on the x-axis, height on the y-axis in red\n",
    "#give it the label of TEMPERATURE\n",
    "ax.scatter(temp,height,c='red',label = \"TEMPERATURE\")\n",
    "#plot dewpoint in blue\n",
    "#give it the label of DEWPOINT\n",
    "ax.scatter(dwp,height,c='blue',label = 'DEWPOINT')\n",
    "#add a background grid\n",
    "ax.grid()\n",
    "#add a x label with units (including the degree symbol) - google it and figure it out :)\n",
    "ax.set(xlabel = u'Temperature [\\N{DEGREE SIGN}C]',\n",
    "#add a y label with units \n",
    "\n",
    "#add a legend\n",
    "\n",
    "#this is added to make sure labels don't get cut off\n",
    "fig.tight_layout()\n",
    "#save the figure as temp_dwpt.png\n",
    "plt.savefig('temp_dwpt.png')"
   ]
  },
  {
   "cell_type": "markdown",
   "id": "05723ee8",
   "metadata": {},
   "source": [
    "While this is nice, it's not particularly useful to us for analyzing the current weather or making a forecast.\n",
    "\n",
    "For that, we typically examine Skew-T Log-P diagrams.  For this, we will be following a modified version of the \"Skew-T with Complex Layout\" example on MetPy's website (https://unidata.github.io/MetPy/latest/examples/plots/Skew-T_Layout.html)"
   ]
  },
  {
   "cell_type": "markdown",
   "id": "a7491edd",
   "metadata": {},
   "source": [
    "### PLOT DATA ON SKEW-T ###"
   ]
  },
  {
   "cell_type": "code",
   "execution_count": null,
   "id": "61376b28",
   "metadata": {},
   "outputs": [],
   "source": [
    "#create a figure and give it a figsize of 9x9, with a dpi of 100\n",
    "\n",
    "#create Skew-T\n",
    "skew = SkewT(fig,rotation=45)\n",
    "\n",
    "#add dry adiabats\n",
    "skew.plot_dry_adiabats()\n",
    "#add moist adiabats\n",
    "skew.plot_moist_adiabats()\n",
    "#add mixing ratio lines\n",
    "skew.plot_mixing_lines()\n",
    "\n",
    "#add axis labels with units\n",
    "\n",
    "#add a y label with units \n",
    "\n",
    "\n",
    "#add temperature in red\n",
    "\n",
    "#add dewpoint in blue\n",
    "\n",
    "\n",
    "#plot wind barbs\n",
    "\n",
    "\n",
    "#set x-axis limits that look good (use your eyes)\n",
    "\n",
    "#set y-axis limits that include the tropopause but not a ton of the stratosphere\n",
    "\n",
    "#to make sure everything looks okay\n",
    "fig.tight_layout()\n",
    "\n",
    "#save the skew T as skewT.png\n"
   ]
  },
  {
   "cell_type": "markdown",
   "id": "f13741ac",
   "metadata": {},
   "source": [
    "### PLOT HODOGRAPH ###\n",
    "The plot will not look correct if you do not remove NaNs"
   ]
  },
  {
   "cell_type": "code",
   "execution_count": null,
   "id": "b016a943",
   "metadata": {},
   "outputs": [],
   "source": [
    "#remove nans from u and v\n",
    "u_hodo = u.dropna()\n",
    "\n",
    "\n",
    "#create the hodograph (have the range from 0-100kts with 25kt increment)\n",
    "#make the wind curve black\n",
    "\n",
    "#add x and y labels\n",
    "\n",
    "#to make sure everything looks okay\n",
    "fig.tight_layout()\n",
    "\n",
    "#save figure as hodo.png\n"
   ]
  },
  {
   "cell_type": "markdown",
   "id": "0c43d83f",
   "metadata": {},
   "source": [
    "### PLOT SKEW-T & HODOGRAPH ON SAME FIGURE ###"
   ]
  },
  {
   "cell_type": "code",
   "execution_count": null,
   "id": "511a4f50",
   "metadata": {},
   "outputs": [],
   "source": [
    "fig = plt.figure(figsize=(9,9),dpi=100)\n",
    "\n",
    "gs = gridspec.GridSpec(3,3)\n",
    "skew = SkewT(fig, rotation=45, subplot=gs[:,:2])\n",
    "\n",
    "#add dry adiabats\n",
    "\n",
    "#add moist adiabats\n",
    "\n",
    "#add mixing ratio lines\n",
    "\n",
    "\n",
    "#add axis labels with units\n",
    "\n",
    "#add a y label with units \n",
    "\n",
    "\n",
    "#add temperature in red\n",
    "\n",
    "#add dewpoint in blue\n",
    "\n",
    "\n",
    "#plot wind barbs\n",
    "\n",
    "\n",
    "#set x-axis limits that look good (use your eyes)\n",
    "\n",
    "#set y-axis limits that include the tropopause but not a ton of the stratosphere\n",
    "\n",
    "#add a hodograph\n",
    "ax = fig.add_subplot(gs[0,-1])\n",
    "\n",
    "#add x and y labels\n",
    "\n",
    "#add a title with the date and launch location:\n",
    "plt.suptitle(title)\n",
    "\n",
    "#to make sure everything looks okay\n",
    "fig.tight_layout()\n",
    "\n",
    "#save the figure as skew_hodo.png\n"
   ]
  },
  {
   "cell_type": "code",
   "execution_count": null,
   "id": "406c370b",
   "metadata": {},
   "outputs": [],
   "source": []
  }
 ],
 "metadata": {
  "kernelspec": {
   "display_name": "Python 3 (ipykernel)",
   "language": "python",
   "name": "python3"
  },
  "language_info": {
   "codemirror_mode": {
    "name": "ipython",
    "version": 3
   },
   "file_extension": ".py",
   "mimetype": "text/x-python",
   "name": "python",
   "nbconvert_exporter": "python",
   "pygments_lexer": "ipython3",
   "version": "3.11.7"
  }
 },
 "nbformat": 4,
 "nbformat_minor": 5
}
