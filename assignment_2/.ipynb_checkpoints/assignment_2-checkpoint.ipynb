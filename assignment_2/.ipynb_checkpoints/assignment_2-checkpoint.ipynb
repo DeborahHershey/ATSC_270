{
 "cells": [
  {
   "cell_type": "markdown",
   "id": "bd61f82f",
   "metadata": {},
   "source": [
    "# ASSIGNMENT #2 - ATMOSPHERIC SOUNDINGS #\n",
    "Due: 04 February 2023 @ 11:59p"
   ]
  },
  {
   "cell_type": "markdown",
   "id": "816b3dd4",
   "metadata": {},
   "source": [
    "Purpose:\\\n",
    "The purpose of this assignment is to become familiar with reading in text data, storing the data in arrays, applying metpy units, and outputting the data into easily read files.\n",
    "\n",
    "Overview:\\\n",
    "In this assignment you will read in atmospheric sounding data and apply units to the data and print the data to a text file and a comma-separated value (csv) text file.\n",
    "\n",
    "\n",
    "| | UPDATE TO YOUR INFORMATION | \n",
    "| :- | :- |\n",
    "| Created By | Jared W. Marquis & Deborah Hershey |\n",
    "| Creation Date | 22 January 2024 |\n",
    "| Course | ATSC 270 - Computer Concepts in Meteorology |"
   ]
  },
  {
   "cell_type": "code",
   "execution_count": 1,
   "id": "eb870142",
   "metadata": {},
   "outputs": [],
   "source": [
    "### UPDATE TO YOUR INFORMATION ###\n",
    "#information allowing anyone with the code to print the author and contact information\n",
    "__author__    = \"Deborah Hershey\"\n",
    "__contact__   = \"deborah.hershey@und.edu\""
   ]
  },
  {
   "cell_type": "markdown",
   "id": "7dec3f1b",
   "metadata": {},
   "source": [
    "### IMPORT REQUIRED LIBRARIES ###"
   ]
  },
  {
   "cell_type": "code",
   "execution_count": 2,
   "id": "b4b5cb45",
   "metadata": {},
   "outputs": [],
   "source": [
    "import numpy as np\n",
    "from metpy.calc import wind_components\n",
    "from metpy.units import units\n",
    "import pandas as pd"
   ]
  },
  {
   "cell_type": "markdown",
   "id": "1df8fe8f",
   "metadata": {},
   "source": [
    "### OPEN SOUNDING FILE ###"
   ]
  },
  {
   "cell_type": "code",
   "execution_count": 3,
   "id": "2a62a4f1",
   "metadata": {},
   "outputs": [],
   "source": [
    "#open file\n",
    "\n",
    "sounding_file = open(\"KBIS_2009011512.txt\",\"r\").readlines()\n"
   ]
  },
  {
   "cell_type": "markdown",
   "id": "133b2f64",
   "metadata": {},
   "source": [
    "### READ IN DATA INTO LISTS ###"
   ]
  },
  {
   "cell_type": "code",
   "execution_count": 4,
   "id": "65907f20",
   "metadata": {},
   "outputs": [
    {
     "name": "stdout",
     "output_type": "stream",
     "text": [
      "['M', '0.0', 'M', 'M', 'M', '0.0', '0.0', 'M', '0.0', 'M', '0.0', '0.0', '0.0', 'M', '1.0', 'M', 'M', '1.0', 'M', '2.0', '3.0', 'M', '5.0', '7.0', '8.0', 'M', '9.0', 'M', '13.0', 'M', 'M', '17.0', '18.0', '22.0', '30.0', '32.0', '34.0', '34.0', 'M', '38.0', 'M', 'M', 'M', '46.0', '46.0', 'M', 'M', 'M', 'M', 'M', '54.0', 'M', '56.0', 'M', 'M', 'M', '67.0', 'M', 'M', '70.0', 'M', 'M', '78.0', '80.0', 'M', '82.0', 'M', '89.0', 'M', '92.0', 'M', '98.0', '100.0', '108.0', '109.0', '109.0', '117.0', '122.0', '123.0', 'M']\n"
     ]
    }
   ],
   "source": [
    "#append works best here, even though appending is bad\n",
    "#will work once I get the read-in data to work\n",
    "station=[]\n",
    "UTC=[]\n",
    "levelcode=[]\n",
    "pressure=[]\n",
    "height=[]\n",
    "tmp=[]\n",
    "dwp=[]\n",
    "ws=[]\n",
    "bearing=[]\n",
    "range_sm=[]\n",
    "\n",
    "for line in sounding_file[1:]:\n",
    "    station.append(line.split(\",\")[0])\n",
    "    UTC.append(line.split(\",\")[1])\n",
    "    levelcode.append(int(line.split(\",\")[2]))\n",
    "    pressure.append(line.split(\",\")[3])\n",
    "    height.append(line.split(\",\")[4])\n",
    "    tmp.append(line.split(\",\")[5])\n",
    "    dwp.append(line.split(\",\")[6])\n",
    "    ws.append(line.split(\",\")[8])\n",
    "    bearing.append(line.split(\",\")[9])\n",
    "    range_sm.append(line.split(\",\")[10].strip()) # or [10][:2], .strip() used to remove /n from final column\n",
    "    \n",
    "\n",
    "print(range_sm)\n"
   ]
  },
  {
   "cell_type": "markdown",
   "id": "be194c5e",
   "metadata": {},
   "source": [
    "### SUBSET TO MANDATORY AND SIGNIFICANT LEVELS ###\n",
    "\n",
    "#### This should remove missing data ####\n",
    "\n",
    "| Level Code | Meaning |\n",
    "| --- | :- |\n",
    "| 4 | mandatory |\n",
    "| 5 | significant |\n",
    "| 6 | wind level (PPBB) |\n",
    "| 7 | tropopause level |\n",
    "| 8 | maximum wind level |\n",
    "| 9 | surface level |"
   ]
  },
  {
   "cell_type": "code",
   "execution_count": 5,
   "id": "0095a064",
   "metadata": {},
   "outputs": [
    {
     "name": "stdout",
     "output_type": "stream",
     "text": [
      "[0, 2, 3, 4, 6, 7, 9, 10, 13, 15, 16, 18, 19, 21, 25, 26, 27, 29, 30, 31, 34, 38, 39, 40, 41, 42, 44, 45, 46, 47, 48, 49, 51, 52, 53, 54, 55, 57, 58, 59, 60, 61, 63, 64, 66, 68, 69, 70, 75, 78, 79]\n",
      "[5, 5, 5, 4, 5, 5, 4, 5, 5, 5, 5, 4, 5, 5, 4, 5, 5, 5, 4, 4, 5, 4, 5, 5, 5, 4, 5, 5, 5, 5, 5, 5, 4, 5, 5, 5, 5, 5, 4, 5, 5, 4, 5, 5, 5, 4, 5, 4, 4, 5] ['2009-01-15 12:00:00', '2009-01-15 12:00:00', '2009-01-15 12:00:00', '2009-01-15 12:00:00', '2009-01-15 12:00:00', '2009-01-15 12:00:00', '2009-01-15 12:00:00', '2009-01-15 12:00:00', '2009-01-15 12:00:00', '2009-01-15 12:00:00', '2009-01-15 12:00:00', '2009-01-15 12:00:00', '2009-01-15 12:00:00', '2009-01-15 12:00:00', '2009-01-15 12:00:00', '2009-01-15 12:00:00', '2009-01-15 12:00:00', '2009-01-15 12:00:00', '2009-01-15 12:00:00', '2009-01-15 12:00:00', '2009-01-15 12:00:00', '2009-01-15 12:00:00', '2009-01-15 12:00:00', '2009-01-15 12:00:00', '2009-01-15 12:00:00', '2009-01-15 12:00:00', '2009-01-15 12:00:00', '2009-01-15 12:00:00', '2009-01-15 12:00:00', '2009-01-15 12:00:00', '2009-01-15 12:00:00', '2009-01-15 12:00:00', '2009-01-15 12:00:00', '2009-01-15 12:00:00', '2009-01-15 12:00:00', '2009-01-15 12:00:00', '2009-01-15 12:00:00', '2009-01-15 12:00:00', '2009-01-15 12:00:00', '2009-01-15 12:00:00', '2009-01-15 12:00:00', '2009-01-15 12:00:00', '2009-01-15 12:00:00', '2009-01-15 12:00:00', '2009-01-15 12:00:00', '2009-01-15 12:00:00', '2009-01-15 12:00:00', '2009-01-15 12:00:00', '2009-01-15 12:00:00', '2009-01-15 12:00:00']\n"
     ]
    }
   ],
   "source": [
    "#making custom list that includes only the indices that have data we care about\n",
    "station_subset = []\n",
    "\n",
    "for i in range(len(levelcode)):\n",
    "    if levelcode[i] == 4 or levelcode[i] == 5:\n",
    "        station_subset.append(i)\n",
    "        \n",
    "print(station_subset)\n",
    "\n",
    "#making empty lists for final variables\n",
    "stationf = []\n",
    "utcf = []\n",
    "pressuref=[]\n",
    "levelcodef=[]\n",
    "heightf=[]\n",
    "tmpf=[]\n",
    "dwpf=[]\n",
    "wsf=[]\n",
    "bearingf=[]\n",
    "range_smf=[]\n",
    "\n",
    "# Filling the final lists with the data we care about\n",
    "j = 1  #random variable for use in a psuedo sub-loop\n",
    "\n",
    "for i in range(len(pressure)):\n",
    "    if i == station_subset[j]:\n",
    "        stationf.append(station[i])\n",
    "        utcf.append(UTC[i])\n",
    "        pressuref.append(pressure[i])\n",
    "        levelcodef.append(levelcode[i])\n",
    "        heightf.append(height[i])\n",
    "        tmpf.append(tmp[i])\n",
    "        dwpf.append(dwp[i])\n",
    "        wsf.append(ws[i])\n",
    "        bearingf.append(bearing[i])\n",
    "        range_smf.append(range_sm[i])\n",
    "        j += 1\n",
    "    else:\n",
    "        continue       \n",
    "\n",
    "print(levelcodef,utcf)"
   ]
  },
  {
   "cell_type": "markdown",
   "id": "0672b7d3",
   "metadata": {},
   "source": [
    "### CONVERT STRINGS ###\n",
    "Some data needs to be floating point numbers, some needs to be integers, some should stay as strings.\n",
    "\n",
    "Hint: You can leave the UTC time as a string and anything that needs NaNs will be a floating point."
   ]
  },
  {
   "cell_type": "code",
   "execution_count": 6,
   "id": "99b298a4",
   "metadata": {},
   "outputs": [
    {
     "name": "stdout",
     "output_type": "stream",
     "text": [
      "[-25.3, -24.1, -22.7, -22.9, -22.9, -21.3, -21.3, -22.5, -24.1, -23.1, -22.9, -23.3, -25.9, -34.3, -34.5, -34.5, -38.5, -38.7, -39.9, -54.7, -58.1, -58.3, -58.5, -57.7, -56.5, -56.7, -57.7, -57.5, -59.1, -59.7, -59.9, -58.7, -58.9, -59.5, -59.1, -62.5, -61.9, -62.7, -61.7, -61.5, -66.1, -65.9, -65.9, -69.3, -69.1, -68.1, -66.5, -67.9, -69.5, -69.5]\n"
     ]
    }
   ],
   "source": [
    "# Converting all tables to float\n",
    "\n",
    "for i in range(len(pressuref)):\n",
    "    if pressuref[i] == 'M':\n",
    "        pressuref[i] = np.nan\n",
    "    else:\n",
    "        pressuref[i] = float(pressuref[i])\n",
    "\n",
    "for i in range(len(heightf)):\n",
    "    if heightf[i] == 'M':\n",
    "        heightf[i] = np.nan\n",
    "    else:\n",
    "        heightf[i] = float(heightf[i])\n",
    "\n",
    "for i in range(len(tmpf)):\n",
    "    if tmpf[i] == 'M':\n",
    "        tmpf[i] = np.nan\n",
    "    else:\n",
    "        tmpf[i] = float(tmpf[i])\n",
    "\n",
    "for i in range(len(dwpf)):\n",
    "    if dwpf[i] == 'M':\n",
    "        dwpf[i] = np.nan\n",
    "    else:\n",
    "        dwpf[i] = float(dwpf[i])\n",
    "\n",
    "for i in range(len(wsf)):\n",
    "    if wsf[i] == 'M':\n",
    "        wsf[i] = np.nan\n",
    "    else:\n",
    "        wsf[i] = float(wsf[i])\n",
    "\n",
    "for i in range(len(bearingf)):\n",
    "    if bearingf[i] == 'M':\n",
    "        bearingf[i] = np.nan\n",
    "    else:\n",
    "        bearingf[i] = float(bearingf[i])\n",
    "\n",
    "for i in range(len(range_smf)):\n",
    "    if range_smf[i] == 'M':\n",
    "        range_smf[i] = np.nan\n",
    "    else:\n",
    "        range_smf[i] = float(range_smf[i])\n",
    "\n",
    "\n",
    "print(tmpf)"
   ]
  },
  {
   "cell_type": "markdown",
   "id": "550558da",
   "metadata": {},
   "source": [
    "### ADD UNITS ###\n",
    "Add units using metpy.\n",
    "\n",
    "Make sure to identify which variables need units.\n",
    "\n",
    "https://unidata.github.io/MetPy/latest/tutorials/unit_tutorial.html"
   ]
  },
  {
   "cell_type": "code",
   "execution_count": 7,
   "id": "d759caa8",
   "metadata": {},
   "outputs": [
    {
     "name": "stdout",
     "output_type": "stream",
     "text": [
      "[959.0 949.0 936.0 925.0 898.0 851.0 850.0 763.0 730.0 721.0 707.0 700.0 610.0 510.0 500.0 463.0 423.0 409.0 400.0 300.0 255.0 250.0 228.0 214.0 209.0 200.0 192.0 183.0 175.0 168.0 163.0 156.0 150.0 141.0 130.0 111.0 106.0 104.0 100.0 91.5 78.4 70.0 68.6 57.6 52.0 50.0 47.2 30.0 20.0 19.9] millibar\n"
     ]
    }
   ],
   "source": [
    "# Adding units\n",
    "\n",
    "pressuref = pressuref * units('millibar')\n",
    "heightf = heightf * units.meters\n",
    "tmpf = tmpf * units.degC\n",
    "dwpf = dwpf * units.degC\n",
    "wsf = wsf * units.knots\n",
    "bearingf = bearingf * units.deg\n",
    "#range_sm = range_sm * units.???\n",
    "print(pressuref)"
   ]
  },
  {
   "cell_type": "markdown",
   "id": "2de14125",
   "metadata": {},
   "source": [
    "### CONVERT WINDS TO U,V COMPONENTS ###\n",
    "For this, we will be using the metpy.calc.wind_components() function.  This has been imported as wind_components(). \n",
    "\n",
    "https://unidata.github.io/MetPy/latest/api/generated/metpy.calc.wind_components.html\n",
    "\n",
    "Please see the website above to understand how this function works."
   ]
  },
  {
   "cell_type": "code",
   "execution_count": 8,
   "id": "f439cc83",
   "metadata": {},
   "outputs": [
    {
     "name": "stdout",
     "output_type": "stream",
     "text": [
      "[nan nan nan 6.0 nan nan 10.0 nan nan nan nan 36.0 nan nan 73.0 nan nan nan 112.0 125.0 nan 117.0 nan nan nan 99.0 nan nan nan nan nan nan 101.0 nan nan nan nan nan 88.0 nan nan 97.0 nan nan nan 108.0 nan 115.0 111.0 nan] knot [nan nan nan 139.0 nan nan 135.0 nan nan nan nan 150.0 nan nan 153.0 nan nan nan 156.0 158.0 nan 159.0 nan nan nan 158.0 nan nan nan nan nan nan 158.0 nan nan nan nan nan 157.0 nan nan 155.0 nan nan nan 153.0 nan 150.0 148.0 nan] degree\n",
      "[nan nan nan 2.329536904287623 nan nan 3.637671552104128 nan nan nan nan 16.038790478087805 nan nan 33.46125501226961 nan nan nan 52.63645916834968 59.62307287005869 nan 56.19220587086658 nan nan nan 47.22147371308648 nan nan nan nan nan nan 48.17544287900742 nan nan nan nan nan 41.67227749896248 nan nan 45.2257655817811 nan nan nan 49.50432248390572 nan 51.23502513833605 48.42637311751911 nan] meter / second\n"
     ]
    }
   ],
   "source": [
    "print(wsf,bearingf)\n",
    "\n",
    "u,v = wind_components(wsf, bearingf)\n",
    "u = u.to(units.meters/units.second)\n",
    "v = v.to(units.meters/units.second)\n",
    "print(v)"
   ]
  },
  {
   "cell_type": "markdown",
   "id": "1a8467cf",
   "metadata": {},
   "source": [
    "### CONVERT U,V WINDS TO M/S ###"
   ]
  },
  {
   "cell_type": "code",
   "execution_count": null,
   "id": "9ba4b1b9",
   "metadata": {},
   "outputs": [],
   "source": []
  },
  {
   "cell_type": "markdown",
   "id": "b93037f8",
   "metadata": {},
   "source": [
    "### PRINT DATA ###\n",
    "Print the sounding location and the time of the sounding.\n",
    "\n",
    "Then for each 4 or 5 level-code level, print the pressure (in mb), height (in meters), temperature (in degrees Celsius), dewpoint temperature (in degrees Celsius), u and v wind components (in m/s) with commas separating each value.  Make sure to include units."
   ]
  },
  {
   "cell_type": "code",
   "execution_count": 24,
   "id": "5d171fd1",
   "metadata": {},
   "outputs": [
    {
     "name": "stdout",
     "output_type": "stream",
     "text": [
      "KBIS,2009-01-15 12:00:00\n",
      "959.0 millibar,649.0 meter,-25.3 degree_Celsius,-28.8 degree_Celsius,nan meter / second,nan meter / second\n",
      "949.0 millibar,726.0 meter,-24.1 degree_Celsius,-27.6 degree_Celsius,nan meter / second,nan meter / second\n",
      "936.0 millibar,826.0 meter,-22.7 degree_Celsius,-28.7 degree_Celsius,nan meter / second,nan meter / second\n",
      "925.0 millibar,915.0 meter,-22.9 degree_Celsius,-28.9 degree_Celsius,-2.0250355361506993 meter / second,2.329536904287623 meter / second\n",
      "898.0 millibar,1131.0 meter,-22.9 degree_Celsius,-28.9 degree_Celsius,nan meter / second,nan meter / second\n",
      "851.0 millibar,1526.0 meter,-21.3 degree_Celsius,-35.3 degree_Celsius,nan meter / second,nan meter / second\n",
      "850.0 millibar,1536.0 meter,-21.3 degree_Celsius,-35.3 degree_Celsius,-3.6376715521041283 meter / second,3.637671552104128 meter / second\n",
      "763.0 millibar,2328.0 meter,-22.5 degree_Celsius,-40.5 degree_Celsius,nan meter / second,nan meter / second\n",
      "730.0 millibar,2651.0 meter,-24.1 degree_Celsius,-41.1 degree_Celsius,nan meter / second,nan meter / second\n",
      "721.0 millibar,2741.0 meter,-23.1 degree_Celsius,-41.1 degree_Celsius,nan meter / second,nan meter / second\n",
      "707.0 millibar,2884.0 meter,-22.9 degree_Celsius,-41.9 degree_Celsius,nan meter / second,nan meter / second\n",
      "700.0 millibar,2961.0 meter,-23.3 degree_Celsius,-43.3 degree_Celsius,-9.259999999999998 meter / second,16.038790478087805 meter / second\n",
      "610.0 millibar,3960.0 meter,-25.9 degree_Celsius,-43.9 degree_Celsius,nan meter / second,nan meter / second\n",
      "510.0 millibar,5231.0 meter,-34.3 degree_Celsius,-52.3 degree_Celsius,nan meter / second,nan meter / second\n",
      "500.0 millibar,5370.0 meter,-34.5 degree_Celsius,-52.5 degree_Celsius,-17.049361000774383 meter / second,33.46125501226961 meter / second\n",
      "463.0 millibar,5906.0 meter,-34.5 degree_Celsius,-52.5 degree_Celsius,nan meter / second,nan meter / second\n",
      "423.0 millibar,6530.0 meter,-38.5 degree_Celsius,-53.5 degree_Celsius,nan meter / second,nan meter / second\n",
      "409.0 millibar,6761.0 meter,-38.7 degree_Celsius,-53.7 degree_Celsius,nan meter / second,nan meter / second\n",
      "400.0 millibar,6920.0 meter,-39.9 degree_Celsius,-54.9 degree_Celsius,-23.435261514820787 meter / second,52.63645916834968 meter / second\n",
      "300.0 millibar,8820.0 meter,-54.7 degree_Celsius,-66.7 degree_Celsius,-24.08928510438436 meter / second,59.62307287005869 meter / second\n",
      "255.0 millibar,9842.0 meter,-58.1 degree_Celsius,-69.1 degree_Celsius,nan meter / second,nan meter / second\n",
      "250.0 millibar,9970.0 meter,-58.3 degree_Celsius,-69.3 degree_Celsius,-21.570166883131623 meter / second,56.19220587086658 meter / second\n",
      "228.0 millibar,10548.0 meter,-58.5 degree_Celsius,-69.5 degree_Celsius,nan meter / second,nan meter / second\n",
      "214.0 millibar,10946.0 meter,-57.7 degree_Celsius,-68.7 degree_Celsius,nan meter / second,nan meter / second\n",
      "209.0 millibar,11095.0 meter,-56.5 degree_Celsius,-68.5 degree_Celsius,nan meter / second,nan meter / second\n",
      "200.0 millibar,11380.0 meter,-56.7 degree_Celsius,-68.7 degree_Celsius,-19.07871380267241 meter / second,47.22147371308648 meter / second\n",
      "192.0 millibar,11637.0 meter,-57.7 degree_Celsius,-69.7 degree_Celsius,nan meter / second,nan meter / second\n",
      "183.0 millibar,11939.0 meter,-57.5 degree_Celsius,-69.5 degree_Celsius,nan meter / second,nan meter / second\n",
      "175.0 millibar,12219.0 meter,-59.1 degree_Celsius,-70.1 degree_Celsius,nan meter / second,nan meter / second\n",
      "168.0 millibar,12474.0 meter,-59.7 degree_Celsius,-70.7 degree_Celsius,nan meter / second,nan meter / second\n",
      "163.0 millibar,12662.0 meter,-59.9 degree_Celsius,-70.9 degree_Celsius,nan meter / second,nan meter / second\n",
      "156.0 millibar,12936.0 meter,-58.7 degree_Celsius,-69.7 degree_Celsius,nan meter / second,nan meter / second\n",
      "150.0 millibar,13190.0 meter,-58.9 degree_Celsius,-69.9 degree_Celsius,-19.46414236434256 meter / second,48.17544287900742 meter / second\n",
      "141.0 millibar,13577.0 meter,-59.5 degree_Celsius,-70.5 degree_Celsius,nan meter / second,nan meter / second\n",
      "130.0 millibar,14084.0 meter,-59.1 degree_Celsius,-70.1 degree_Celsius,nan meter / second,nan meter / second\n",
      "111.0 millibar,15064.0 meter,-62.5 degree_Celsius,-73.5 degree_Celsius,nan meter / second,nan meter / second\n",
      "106.0 millibar,15348.0 meter,-61.9 degree_Celsius,-72.9 degree_Celsius,nan meter / second,nan meter / second\n",
      "104.0 millibar,15465.0 meter,-62.7 degree_Celsius,-73.7 degree_Celsius,nan meter / second,nan meter / second\n",
      "100.0 millibar,15710.0 meter,-61.7 degree_Celsius,-72.7 degree_Celsius,-17.68883233240775 meter / second,41.67227749896248 meter / second\n",
      "91.5 millibar,16259.0 meter,-61.5 degree_Celsius,-72.5 degree_Celsius,nan meter / second,nan meter / second\n",
      "78.4 millibar,17204.0 meter,-66.1 degree_Celsius,-76.1 degree_Celsius,nan meter / second,nan meter / second\n",
      "70.0 millibar,17900.0 meter,-65.9 degree_Celsius,-75.9 degree_Celsius,-21.089120836707288 meter / second,45.2257655817811 meter / second\n",
      "68.6 millibar,18022.0 meter,-65.9 degree_Celsius,-75.9 degree_Celsius,nan meter / second,nan meter / second\n",
      "57.6 millibar,19071.0 meter,-69.3 degree_Celsius,-79.3 degree_Celsius,nan meter / second,nan meter / second\n",
      "52.0 millibar,19680.0 meter,-69.1 degree_Celsius,-79.1 degree_Celsius,nan meter / second,nan meter / second\n",
      "50.0 millibar,19920.0 meter,-68.1 degree_Celsius,-78.1 degree_Celsius,-25.223712165529225 meter / second,49.50432248390572 meter / second\n",
      "47.2 millibar,20266.0 meter,-66.5 degree_Celsius,-76.5 degree_Celsius,nan meter / second,nan meter / second\n",
      "30.0 millibar,23000.0 meter,-67.9 degree_Celsius,-77.9 degree_Celsius,-29.580555555555556 meter / second,51.23502513833605 meter / second\n",
      "20.0 millibar,25420.0 meter,-69.5 degree_Celsius,-79.5 degree_Celsius,-30.260156385263446 meter / second,48.42637311751911 meter / second\n",
      "19.9 millibar,25450.0 meter,-69.5 degree_Celsius,-79.5 degree_Celsius,nan meter / second,nan meter / second\n"
     ]
    }
   ],
   "source": [
    "print(f\"{stationf[0]},{utcf[0]}\")\n",
    "#print(f\"{pressuref[0]},{heightf[0]},{tmpf[0]},{dwpf[0]},{u[0]},{v[0]}\")\n",
    "for i in range(len(tmpf)):\n",
    "    print(f\"{pressuref[i]},{heightf[i]},{tmpf[i]},{dwpf[i]},{u[i]},{v[i]}\")"
   ]
  },
  {
   "cell_type": "markdown",
   "id": "4217c837",
   "metadata": {},
   "source": [
    "### SAVE TO CSV FILE ###\n",
    "Save to CSV without units.  The CSV file should be named KBIS_sounding.csv. Include the following header:\n",
    "\n",
    "{STATION} - {VALID UTC}<br>\n",
    "pressure[mb],height[m],temperature[degC],dewpoint[degC],u-wind[m/s],v-wind[m/s]\n",
    "\n",
    "Make sure that the winds are limited to 2 decimal places."
   ]
  },
  {
   "cell_type": "code",
   "execution_count": 31,
   "id": "db90e6ca-c80b-41d0-af99-41b60672c5d6",
   "metadata": {},
   "outputs": [],
   "source": [
    "with open(\"KBIS_sounding.csv\",\"w\") as outfile:\n",
    "    outfile.write(f\"{stationf[0]} - {utcf[0]}\\n\")\n",
    "    outfile.write(f\"pressure[mb],height[m],temperature[degC],dewpoint[degC],u-wind[m/s],v-wind[m/s]\\n\")\n",
    "    #for i in range(len(tmpf)):\n",
    "    #    outfile.write(f\"{pressuref[i]},{heightf[i]},{tmpf[i]},{dwpf[i]},{u[i]},{v[i]}\\n\")\n",
    "    \n",
    "#out_file = open(\"KBIS_sounding.csv\",\"w\")\n",
    "#write to file\n",
    "#outfile.write()\n",
    "#close file\n",
    "outfile.close()"
   ]
  },
  {
   "cell_type": "code",
   "execution_count": 22,
   "id": "0a123e09",
   "metadata": {},
   "outputs": [
    {
     "ename": "TypeError",
     "evalue": "no implementation found for 'numpy.put' on types that implement __array_function__: [<class 'numpy.ndarray'>, <class 'pint.Quantity'>]",
     "output_type": "error",
     "traceback": [
      "\u001b[0;31m---------------------------------------------------------------------------\u001b[0m",
      "\u001b[0;31mTypeError\u001b[0m                                 Traceback (most recent call last)",
      "Cell \u001b[0;32mIn[22], line 14\u001b[0m\n\u001b[1;32m      4\u001b[0m table \u001b[38;5;241m=\u001b[39m np\u001b[38;5;241m.\u001b[39mzeros((\u001b[38;5;28mlen\u001b[39m(tmpf),\u001b[38;5;241m6\u001b[39m))\n\u001b[1;32m      5\u001b[0m \u001b[38;5;124;03m'''\u001b[39;00m\n\u001b[1;32m      6\u001b[0m \u001b[38;5;124;03mfor i in range(len(tmpf)):\u001b[39;00m\n\u001b[1;32m      7\u001b[0m \u001b[38;5;124;03m    #table[[i][0]] = pressuref[i]\u001b[39;00m\n\u001b[0;32m   (...)\u001b[0m\n\u001b[1;32m     12\u001b[0m \u001b[38;5;124;03m    #table[[5][i]] = v[i]\u001b[39;00m\n\u001b[1;32m     13\u001b[0m \u001b[38;5;124;03m'''\u001b[39;00m\n\u001b[0;32m---> 14\u001b[0m np\u001b[38;5;241m.\u001b[39mput(table,np\u001b[38;5;241m.\u001b[39marange(\u001b[38;5;241m1\u001b[39m,\u001b[38;5;241m300\u001b[39m,\u001b[38;5;241m6\u001b[39m),heightf[:])\n\u001b[1;32m     16\u001b[0m \u001b[38;5;28mprint\u001b[39m(table)\n\u001b[1;32m     18\u001b[0m \u001b[38;5;124;03m'''\u001b[39;00m\n\u001b[1;32m     19\u001b[0m \u001b[38;5;124;03mimport csv\u001b[39;00m\n\u001b[1;32m     20\u001b[0m \u001b[38;5;124;03mwith open('KBIS_sounding.csv', 'w', encoding='UTF8') as f:\u001b[39;00m\n\u001b[0;32m   (...)\u001b[0m\n\u001b[1;32m     28\u001b[0m \u001b[38;5;124;03m    writer.writerows(table)\u001b[39;00m\n\u001b[1;32m     29\u001b[0m \u001b[38;5;124;03m'''\u001b[39;00m\n",
      "\u001b[0;31mTypeError\u001b[0m: no implementation found for 'numpy.put' on types that implement __array_function__: [<class 'numpy.ndarray'>, <class 'pint.Quantity'>]"
     ]
    }
   ],
   "source": [
    "#np.savetxt('data.csv', (, col2_array, col3_array), delimiter=',')\n",
    "subrow = ['pressure[mb]','height[m]','temperature[degC]','dewpoint[degC]','u-wind[m/s]','v-wind[m/s]']\n",
    "\n",
    "table = np.zeros((len(tmpf),6))\n",
    "'''\n",
    "for i in range(len(tmpf)):\n",
    "    #table[[i][0]] = pressuref[i]\n",
    "    np.put(table,[i,1],heightf[i])\n",
    "    #table[[2][i]] = tmpf[i]\n",
    "    #table[[3][i]] = dwpf[i]\n",
    "    #table[[4][i]] = u[i]\n",
    "    #table[[5][i]] = v[i]\n",
    "'''\n",
    "np.put(table,np.arange(1,300,6),heightf[:])\n",
    "\n",
    "print(table)\n",
    "\n",
    "'''\n",
    "import csv\n",
    "with open('KBIS_sounding.csv', 'w', encoding='UTF8') as f:\n",
    "    writer = csv.writer(f)\n",
    "\n",
    "    # write the header\n",
    "    writer.writerow('KBIS - 2009-01-15 12:00:00 UTC')\n",
    "\n",
    "    # write multiple rows\n",
    "    writer.writerow(subrow)\n",
    "    writer.writerows(table)\n",
    "'''"
   ]
  },
  {
   "cell_type": "markdown",
   "id": "cccc9432",
   "metadata": {},
   "source": [
    "### OPEN THE CSV FILE IN NUMPY ###\n",
    "\n",
    "Here, we are going to use the numpy genfromtxt() function - np.genfromtxt()\n",
    "\n",
    "https://numpy.org/doc/stable/reference/generated/numpy.genfromtxt.html\n",
    "\n",
    "use the names press,height,temp,dwpt,u,v"
   ]
  },
  {
   "cell_type": "code",
   "execution_count": null,
   "id": "0db560cc",
   "metadata": {},
   "outputs": [],
   "source": []
  },
  {
   "cell_type": "markdown",
   "id": "717119e8",
   "metadata": {},
   "source": [
    "### RUN THE CELL BELOW ###\n",
    "If the code above was correct, it should print out the pressure as an array, then temperature as an array, and finally, u-wind component as an array - all with units.\n",
    "\n",
    "Note that the units are now outside the array instead of applied to each element as they were in the list."
   ]
  },
  {
   "cell_type": "code",
   "execution_count": null,
   "id": "2d50731a",
   "metadata": {},
   "outputs": [],
   "source": []
  },
  {
   "cell_type": "markdown",
   "id": "c73a0ad7",
   "metadata": {},
   "source": [
    "### OPEN THE CSV FILE IN PANDAS ###\n",
    "Now we are going to open the CSV file into a pandas dataframe.\n",
    "\n",
    "Dataframes are somewhat like arrays but a bit more complicated.\n",
    "\n",
    "Here, we will use the pandas.read_csv() function - pd.read_csv()\n",
    "\n",
    "Use the same names as above.\n",
    "\n",
    "https://pandas.pydata.org/docs/reference/api/pandas.read_csv.html"
   ]
  },
  {
   "cell_type": "code",
   "execution_count": null,
   "id": "3299a386",
   "metadata": {},
   "outputs": [],
   "source": []
  },
  {
   "cell_type": "markdown",
   "id": "6eeb0151",
   "metadata": {},
   "source": [
    "### NOW PRINT THE DATAFRAME ###\n",
    "If done correctly, you should see the column names auto-populated."
   ]
  },
  {
   "cell_type": "code",
   "execution_count": null,
   "id": "f053bec3",
   "metadata": {},
   "outputs": [],
   "source": []
  }
 ],
 "metadata": {
  "kernelspec": {
   "display_name": "Python 3 (ipykernel)",
   "language": "python",
   "name": "python3"
  },
  "language_info": {
   "codemirror_mode": {
    "name": "ipython",
    "version": 3
   },
   "file_extension": ".py",
   "mimetype": "text/x-python",
   "name": "python",
   "nbconvert_exporter": "python",
   "pygments_lexer": "ipython3",
   "version": "3.11.7"
  }
 },
 "nbformat": 4,
 "nbformat_minor": 5
}
