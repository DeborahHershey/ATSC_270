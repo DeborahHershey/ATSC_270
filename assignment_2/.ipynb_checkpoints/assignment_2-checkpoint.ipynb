{
 "cells": [
  {
   "cell_type": "markdown",
   "id": "bd61f82f",
   "metadata": {},
   "source": [
    "# ASSIGNMENT #2 - ATMOSPHERIC SOUNDINGS #\n",
    "Due: 04 February 2023 @ 11:59p"
   ]
  },
  {
   "cell_type": "markdown",
   "id": "816b3dd4",
   "metadata": {},
   "source": [
    "Purpose:\\\n",
    "The purpose of this assignment is to become familiar with reading in text data, storing the data in arrays, applying metpy units, and outputting the data into easily read files.\n",
    "\n",
    "Overview:\\\n",
    "In this assignment you will read in atmospheric sounding data and apply units to the data and print the data to a text file and a comma-separated value (csv) text file.\n",
    "\n",
    "\n",
    "| | UPDATE TO YOUR INFORMATION | \n",
    "| :- | :- |\n",
    "| Created By | Jared W. Marquis & Deborah Hershey |\n",
    "| Creation Date | 22 January 2024 |\n",
    "| Course | ATSC 270 - Computer Concepts in Meteorology |"
   ]
  },
  {
   "cell_type": "code",
   "execution_count": 1,
   "id": "eb870142",
   "metadata": {},
   "outputs": [],
   "source": [
    "### UPDATE TO YOUR INFORMATION ###\n",
    "#information allowing anyone with the code to print the author and contact information\n",
    "__author__    = \"Deborah Hershey\"\n",
    "__contact__   = \"deborah.hershey@und.edu\""
   ]
  },
  {
   "cell_type": "markdown",
   "id": "7dec3f1b",
   "metadata": {},
   "source": [
    "### IMPORT REQUIRED LIBRARIES ###"
   ]
  },
  {
   "cell_type": "code",
   "execution_count": 1,
   "id": "b4b5cb45",
   "metadata": {},
   "outputs": [],
   "source": [
    "import numpy as np\n",
    "from metpy.calc import wind_components\n",
    "from metpy.units import units\n",
    "import pandas as pd"
   ]
  },
  {
   "cell_type": "markdown",
   "id": "1df8fe8f",
   "metadata": {},
   "source": [
    "### OPEN SOUNDING FILE ###"
   ]
  },
  {
   "cell_type": "code",
   "execution_count": 2,
   "id": "2a62a4f1",
   "metadata": {},
   "outputs": [],
   "source": [
    "#open file\n",
    "\n",
    "sounding_file = open(\"KBIS_2009011512.txt\",\"r\").readlines()\n"
   ]
  },
  {
   "cell_type": "markdown",
   "id": "133b2f64",
   "metadata": {},
   "source": [
    "### READ IN DATA INTO LISTS ###"
   ]
  },
  {
   "cell_type": "code",
   "execution_count": 3,
   "id": "65907f20",
   "metadata": {},
   "outputs": [
    {
     "name": "stdout",
     "output_type": "stream",
     "text": [
      "[4, 9, 5, 5, 5, 6, 4, 5, 6, 5, 4, 6, 6, 5, 6, 5, 5, 6, 5, 4, 6, 5, 6, 6, 6, 5, 4, 5, 6, 5, 5, 4, 6, 6, 4, 6, 6, 6, 5, 4, 5, 5, 5, 6, 4, 5, 5, 5, 5, 5, 6, 5, 4, 5, 5, 5, 6, 5, 5, 4, 5, 5, 6, 4, 5, 6, 5, 6, 5, 4, 5, 6, 6, 6, 6, 4, 6, 6, 4, 5]\n"
     ]
    }
   ],
   "source": [
    "#append works best here, even though appending is bad\n",
    "#will work once I get the read-in data to work\n",
    "station=[]\n",
    "UTC=[]\n",
    "levelcode=[]\n",
    "pressure=[]\n",
    "height=[]\n",
    "tmp=[]\n",
    "dwp=[]\n",
    "ws=[]\n",
    "bearing=[]\n",
    "\n",
    "for line in sounding_file[1:]:\n",
    "    station.append(line.split(\",\")[0])\n",
    "    UTC.append(line.split(\",\")[1])\n",
    "    levelcode.append(int(line.split(\",\")[2]))\n",
    "    pressure.append(line.split(\",\")[3])\n",
    "    height.append(line.split(\",\")[4])\n",
    "    tmp.append(line.split(\",\")[5])\n",
    "    dwp.append(line.split(\",\")[6])\n",
    "    ws.append(line.split(\",\")[8])\n",
    "    bearing.append(line.split(\",\")[9])\n",
    "    \n",
    "\n",
    "print(levelcode)\n"
   ]
  },
  {
   "cell_type": "markdown",
   "id": "be194c5e",
   "metadata": {},
   "source": [
    "### SUBSET TO MANDATORY AND SIGNIFICANT LEVELS ###\n",
    "\n",
    "#### This should remove missing data ####\n",
    "\n",
    "| Level Code | Meaning |\n",
    "| --- | :- |\n",
    "| 4 | mandatory |\n",
    "| 5 | significant |\n",
    "| 6 | wind level (PPBB) |\n",
    "| 7 | tropopause level |\n",
    "| 8 | maximum wind level |\n",
    "| 9 | surface level |"
   ]
  },
  {
   "cell_type": "code",
   "execution_count": 4,
   "id": "0095a064",
   "metadata": {},
   "outputs": [
    {
     "name": "stdout",
     "output_type": "stream",
     "text": [
      "['mandatory', 'surface level', 'significant', 'significant', 'significant', 'wind level (PPBB)', 'mandatory', 'significant', 'wind level (PPBB)', 'significant', 'mandatory', 'wind level (PPBB)', 'wind level (PPBB)', 'significant', 'wind level (PPBB)', 'significant', 'significant', 'wind level (PPBB)', 'significant', 'mandatory', 'wind level (PPBB)', 'significant', 'wind level (PPBB)', 'wind level (PPBB)', 'wind level (PPBB)', 'significant', 'mandatory', 'significant', 'wind level (PPBB)', 'significant', 'significant', 'mandatory', 'wind level (PPBB)', 'wind level (PPBB)', 'mandatory', 'wind level (PPBB)', 'wind level (PPBB)', 'wind level (PPBB)', 'significant', 'mandatory', 'significant', 'significant', 'significant', 'wind level (PPBB)', 'mandatory', 'significant', 'significant', 'significant', 'significant', 'significant', 'wind level (PPBB)', 'significant', 'mandatory', 'significant', 'significant', 'significant', 'wind level (PPBB)', 'significant', 'significant', 'mandatory', 'significant', 'significant', 'wind level (PPBB)', 'mandatory', 'significant', 'wind level (PPBB)', 'significant', 'wind level (PPBB)', 'significant', 'mandatory', 'significant', 'wind level (PPBB)', 'wind level (PPBB)', 'wind level (PPBB)', 'wind level (PPBB)', 'mandatory', 'wind level (PPBB)', 'wind level (PPBB)', 'mandatory', 'significant']\n"
     ]
    }
   ],
   "source": [
    "humanlc=[]\n",
    "\n",
    "for i in range(len(levelcode)):\n",
    "    if levelcode[i] == 4:\n",
    "        humanlc.append(\"mandatory\")\n",
    "    elif levelcode[i] == 5:\n",
    "        humanlc.append(\"significant\")\n",
    "    elif levelcode[i] == 6:\n",
    "        humanlc.append(\"wind level (PPBB)\")\n",
    "    elif levelcode[i] == 7:\n",
    "        humanlc.append(\"tropopause level\")\n",
    "    elif levelcode[i] == 8:\n",
    "        humanlc.append(\"max wind level\")\n",
    "    elif levelcode[i] == 9:\n",
    "        humanlc.append(\"surface level\")\n",
    "    else:\n",
    "        humanlc.append(\"Invalid\")\n",
    "\n",
    "print(humanlc)"
   ]
  },
  {
   "cell_type": "markdown",
   "id": "0672b7d3",
   "metadata": {},
   "source": [
    "### CONVERT STRINGS ###\n",
    "Some data needs to be floating point numbers, some needs to be integers, some should stay as strings.\n",
    "\n",
    "Hint: You can leave the UTC time as a string and anything that needs NaNs will be a floating point."
   ]
  },
  {
   "cell_type": "code",
   "execution_count": 5,
   "id": "99b298a4",
   "metadata": {},
   "outputs": [
    {
     "ename": "TypeError",
     "evalue": "'float' object is not callable",
     "output_type": "error",
     "traceback": [
      "\u001b[0;31m---------------------------------------------------------------------------\u001b[0m",
      "\u001b[0;31mTypeError\u001b[0m                                 Traceback (most recent call last)",
      "Cell \u001b[0;32mIn[5], line 15\u001b[0m\n\u001b[1;32m     13\u001b[0m \u001b[38;5;28;01mfor\u001b[39;00m i \u001b[38;5;129;01min\u001b[39;00m \u001b[38;5;28mrange\u001b[39m(\u001b[38;5;28mlen\u001b[39m(tmp)):\n\u001b[1;32m     14\u001b[0m     \u001b[38;5;28;01mif\u001b[39;00m tmp[i] \u001b[38;5;241m==\u001b[39m \u001b[38;5;124m'\u001b[39m\u001b[38;5;124mM\u001b[39m\u001b[38;5;124m'\u001b[39m:\n\u001b[0;32m---> 15\u001b[0m         tmp[i] \u001b[38;5;241m=\u001b[39m np\u001b[38;5;241m.\u001b[39mnan()\n\u001b[1;32m     16\u001b[0m     \u001b[38;5;28;01melse\u001b[39;00m:\n\u001b[1;32m     17\u001b[0m         tmp[i] \u001b[38;5;241m=\u001b[39m \u001b[38;5;28mfloat\u001b[39m(tmp[i])\n",
      "\u001b[0;31mTypeError\u001b[0m: 'float' object is not callable"
     ]
    }
   ],
   "source": [
    "for i in range(len(pressure)):\n",
    "    if pressure[i] == 'M':\n",
    "        pressure[i] = np.nan()\n",
    "    else:\n",
    "        pressure[i] = float(pressure[i])\n",
    "\n",
    "for i in range(len(height)):\n",
    "    if height[i] == 'M':\n",
    "        height[i] = np.nan()\n",
    "    else:\n",
    "        height[i] = float(height[i])\n",
    "\n",
    "for i in range(len(tmp)):\n",
    "    if tmp[i] == 'M':\n",
    "        tmp[i] = np.nan()\n",
    "    else:\n",
    "        tmp[i] = float(tmp[i])\n",
    "\n",
    "for i in range(len(dwp)):\n",
    "    if dwp[i] == 'M':\n",
    "        dwp[i] = np.nan()\n",
    "    else:\n",
    "        dwp[i] = float(dwp[i])\n",
    "\n",
    "for i in range(len(ws)):\n",
    "    if ws[i] == 'M':\n",
    "        ws[i] = np.nan()\n",
    "    else:\n",
    "        ws[i] = float(ws[i])\n",
    "\n",
    "for i in range(len(bearing)):\n",
    "    if bearing[i] == 'M':\n",
    "        bearing[i] = np.nan()\n",
    "    else:\n",
    "        bearing[i] = float(bearing[i])\n",
    "\n",
    "print(tmp)"
   ]
  },
  {
   "cell_type": "markdown",
   "id": "550558da",
   "metadata": {},
   "source": [
    "### ADD UNITS ###\n",
    "Add units using metpy.\n",
    "\n",
    "Make sure to identify which variables need units.\n",
    "\n",
    "https://unidata.github.io/MetPy/latest/tutorials/unit_tutorial.html"
   ]
  },
  {
   "cell_type": "code",
   "execution_count": null,
   "id": "d759caa8",
   "metadata": {},
   "outputs": [],
   "source": []
  },
  {
   "cell_type": "markdown",
   "id": "2de14125",
   "metadata": {},
   "source": [
    "### CONVERT WINDS TO U,V COMPONENTS ###\n",
    "For this, we will be using the metpy.calc.wind_components() function.  This has been imported as wind_components(). \n",
    "\n",
    "https://unidata.github.io/MetPy/latest/api/generated/metpy.calc.wind_components.html\n",
    "\n",
    "Please see the website above to understand how this function works."
   ]
  },
  {
   "cell_type": "code",
   "execution_count": null,
   "id": "f439cc83",
   "metadata": {},
   "outputs": [],
   "source": []
  },
  {
   "cell_type": "markdown",
   "id": "1a8467cf",
   "metadata": {},
   "source": [
    "### CONVERT U,V WINDS TO M/S ###"
   ]
  },
  {
   "cell_type": "code",
   "execution_count": null,
   "id": "9ba4b1b9",
   "metadata": {},
   "outputs": [],
   "source": []
  },
  {
   "cell_type": "markdown",
   "id": "b93037f8",
   "metadata": {},
   "source": [
    "### PRINT DATA ###\n",
    "Print the sounding location and the time of the sounding.\n",
    "\n",
    "Then for each 4 or 5 level-code level, print the pressure (in mb), height (in meters), temperature (in degrees Celsius), dewpoint temperature (in degrees Celsius), u and v wind components (in m/s) with commas separating each value.  Make sure to include units."
   ]
  },
  {
   "cell_type": "code",
   "execution_count": null,
   "id": "5d171fd1",
   "metadata": {},
   "outputs": [],
   "source": []
  },
  {
   "cell_type": "markdown",
   "id": "4217c837",
   "metadata": {},
   "source": [
    "### SAVE TO CSV FILE ###\n",
    "Save to CSV without units.  The CSV file should be named KBIS_sounding.csv. Include the following header:\n",
    "\n",
    "{STATION} - {VALID UTC}<br>\n",
    "pressure[mb],height[m],temperature[degC],dewpoint[degC],u-wind[m/s],v-wind[m/s]\n",
    "\n",
    "Make sure that the winds are limited to 2 decimal places."
   ]
  },
  {
   "cell_type": "code",
   "execution_count": null,
   "id": "0a123e09",
   "metadata": {},
   "outputs": [],
   "source": []
  },
  {
   "cell_type": "markdown",
   "id": "cccc9432",
   "metadata": {},
   "source": [
    "### OPEN THE CSV FILE IN NUMPY ###\n",
    "\n",
    "Here, we are going to use the numpy genfromtxt() function - np.genfromtxt()\n",
    "\n",
    "https://numpy.org/doc/stable/reference/generated/numpy.genfromtxt.html\n",
    "\n",
    "use the names press,height,temp,dwpt,u,v"
   ]
  },
  {
   "cell_type": "code",
   "execution_count": null,
   "id": "0db560cc",
   "metadata": {},
   "outputs": [],
   "source": []
  },
  {
   "cell_type": "markdown",
   "id": "717119e8",
   "metadata": {},
   "source": [
    "### RUN THE CELL BELOW ###\n",
    "If the code above was correct, it should print out the pressure as an array, then temperature as an array, and finally, u-wind component as an array - all with units.\n",
    "\n",
    "Note that the units are now outside the array instead of applied to each element as they were in the list."
   ]
  },
  {
   "cell_type": "code",
   "execution_count": null,
   "id": "2d50731a",
   "metadata": {},
   "outputs": [],
   "source": []
  },
  {
   "cell_type": "markdown",
   "id": "c73a0ad7",
   "metadata": {},
   "source": [
    "### OPEN THE CSV FILE IN PANDAS ###\n",
    "Now we are going to open the CSV file into a pandas dataframe.\n",
    "\n",
    "Dataframes are somewhat like arrays but a bit more complicated.\n",
    "\n",
    "Here, we will use the pandas.read_csv() function - pd.read_csv()\n",
    "\n",
    "Use the same names as above.\n",
    "\n",
    "https://pandas.pydata.org/docs/reference/api/pandas.read_csv.html"
   ]
  },
  {
   "cell_type": "code",
   "execution_count": null,
   "id": "3299a386",
   "metadata": {},
   "outputs": [],
   "source": []
  },
  {
   "cell_type": "markdown",
   "id": "6eeb0151",
   "metadata": {},
   "source": [
    "### NOW PRINT THE DATAFRAME ###\n",
    "If done correctly, you should see the column names auto-populated."
   ]
  },
  {
   "cell_type": "code",
   "execution_count": null,
   "id": "f053bec3",
   "metadata": {},
   "outputs": [],
   "source": []
  }
 ],
 "metadata": {
  "kernelspec": {
   "display_name": "Python 3 (ipykernel)",
   "language": "python",
   "name": "python3"
  },
  "language_info": {
   "codemirror_mode": {
    "name": "ipython",
    "version": 3
   },
   "file_extension": ".py",
   "mimetype": "text/x-python",
   "name": "python",
   "nbconvert_exporter": "python",
   "pygments_lexer": "ipython3",
   "version": "3.11.7"
  }
 },
 "nbformat": 4,
 "nbformat_minor": 5
}
