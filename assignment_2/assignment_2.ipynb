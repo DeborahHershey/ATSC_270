{
 "cells": [
  {
   "cell_type": "markdown",
   "id": "bd61f82f",
   "metadata": {},
   "source": [
    "# ASSIGNMENT #2 - ATMOSPHERIC SOUNDINGS #\n",
    "Due: 04 February 2023 @ 11:59p"
   ]
  },
  {
   "cell_type": "markdown",
   "id": "816b3dd4",
   "metadata": {},
   "source": [
    "Purpose:\\\n",
    "The purpose of this assignment is to become familiar with reading in text data, storing the data in arrays, applying metpy units, and outputting the data into easily read files.\n",
    "\n",
    "Overview:\\\n",
    "In this assignment you will read in atmospheric sounding data and apply units to the data and print the data to a text file and a comma-separated value (csv) text file.\n",
    "\n",
    "\n",
    "| | UPDATE TO YOUR INFORMATION | \n",
    "| :- | :- |\n",
    "| Created By | Jared W. Marquis & Deborah Hershey |\n",
    "| Creation Date | 22 January 2024 |\n",
    "| Course | ATSC 270 - Computer Concepts in Meteorology |"
   ]
  },
  {
   "cell_type": "code",
   "execution_count": 1,
   "id": "eb870142",
   "metadata": {},
   "outputs": [],
   "source": [
    "### UPDATE TO YOUR INFORMATION ###\n",
    "#information allowing anyone with the code to print the author and contact information\n",
    "__author__    = \"Deborah Hershey\"\n",
    "__contact__   = \"deborah.hershey@und.edu\""
   ]
  },
  {
   "cell_type": "markdown",
   "id": "7dec3f1b",
   "metadata": {},
   "source": [
    "### IMPORT REQUIRED LIBRARIES ###"
   ]
  },
  {
   "cell_type": "code",
   "execution_count": 2,
   "id": "b4b5cb45",
   "metadata": {},
   "outputs": [],
   "source": [
    "import numpy as np\n",
    "from metpy.calc import wind_components\n",
    "from metpy.units import units\n",
    "import pandas as pd"
   ]
  },
  {
   "cell_type": "markdown",
   "id": "1df8fe8f",
   "metadata": {},
   "source": [
    "### OPEN SOUNDING FILE ###"
   ]
  },
  {
   "cell_type": "code",
   "execution_count": 3,
   "id": "2a62a4f1",
   "metadata": {},
   "outputs": [],
   "source": [
    "#open file\n",
    "\n",
    "sounding_file = open(\"KBIS_2009011512.txt\",\"r\").readlines()\n"
   ]
  },
  {
   "cell_type": "markdown",
   "id": "133b2f64",
   "metadata": {},
   "source": [
    "### READ IN DATA INTO LISTS ###"
   ]
  },
  {
   "cell_type": "code",
   "execution_count": 4,
   "id": "65907f20",
   "metadata": {},
   "outputs": [
    {
     "name": "stdout",
     "output_type": "stream",
     "text": [
      "['M', '0.0', 'M', 'M', 'M', '0.0', '0.0', 'M', '0.0', 'M', '0.0', '0.0', '0.0', 'M', '1.0', 'M', 'M', '1.0', 'M', '2.0', '3.0', 'M', '5.0', '7.0', '8.0', 'M', '9.0', 'M', '13.0', 'M', 'M', '17.0', '18.0', '22.0', '30.0', '32.0', '34.0', '34.0', 'M', '38.0', 'M', 'M', 'M', '46.0', '46.0', 'M', 'M', 'M', 'M', 'M', '54.0', 'M', '56.0', 'M', 'M', 'M', '67.0', 'M', 'M', '70.0', 'M', 'M', '78.0', '80.0', 'M', '82.0', 'M', '89.0', 'M', '92.0', 'M', '98.0', '100.0', '108.0', '109.0', '109.0', '117.0', '122.0', '123.0', 'M']\n"
     ]
    }
   ],
   "source": [
    "#append works best here, even though appending is bad\n",
    "#will work once I get the read-in data to work\n",
    "station=[]\n",
    "UTC=[]\n",
    "levelcode=[]\n",
    "pressure=[]\n",
    "height=[]\n",
    "tmp=[]\n",
    "dwp=[]\n",
    "ws=[]\n",
    "bearing=[]\n",
    "range_sm=[]\n",
    "\n",
    "for line in sounding_file[1:]:\n",
    "    station.append(line.split(\",\")[0])\n",
    "    UTC.append(line.split(\",\")[1])\n",
    "    levelcode.append(int(line.split(\",\")[2]))\n",
    "    pressure.append(line.split(\",\")[3])\n",
    "    height.append(line.split(\",\")[4])\n",
    "    tmp.append(line.split(\",\")[5])\n",
    "    dwp.append(line.split(\",\")[6])\n",
    "    ws.append(line.split(\",\")[8])\n",
    "    bearing.append(line.split(\",\")[9])\n",
    "    range_sm.append(line.split(\",\")[10].strip()) # or [10][:2], .strip() used to remove /n from final column\n",
    "    \n",
    "\n",
    "print(range_sm)\n"
   ]
  },
  {
   "cell_type": "markdown",
   "id": "be194c5e",
   "metadata": {},
   "source": [
    "### SUBSET TO MANDATORY AND SIGNIFICANT LEVELS ###\n",
    "\n",
    "#### This should remove missing data ####\n",
    "\n",
    "| Level Code | Meaning |\n",
    "| --- | :- |\n",
    "| 4 | mandatory |\n",
    "| 5 | significant |\n",
    "| 6 | wind level (PPBB) |\n",
    "| 7 | tropopause level |\n",
    "| 8 | maximum wind level |\n",
    "| 9 | surface level |"
   ]
  },
  {
   "cell_type": "code",
   "execution_count": 5,
   "id": "0095a064",
   "metadata": {},
   "outputs": [
    {
     "name": "stdout",
     "output_type": "stream",
     "text": [
      "[0, 2, 3, 4, 6, 7, 9, 10, 13, 15, 16, 18, 19, 21, 25, 26, 27, 29, 30, 31, 34, 38, 39, 40, 41, 42, 44, 45, 46, 47, 48, 49, 51, 52, 53, 54, 55, 57, 58, 59, 60, 61, 63, 64, 66, 68, 69, 70, 75, 78, 79]\n",
      "[5, 5, 5, 4, 5, 5, 4, 5, 5, 5, 5, 4, 5, 5, 4, 5, 5, 5, 4, 4, 5, 4, 5, 5, 5, 4, 5, 5, 5, 5, 5, 5, 4, 5, 5, 5, 5, 5, 4, 5, 5, 4, 5, 5, 5, 4, 5, 4, 4, 5] ['2009-01-15 12:00:00', '2009-01-15 12:00:00', '2009-01-15 12:00:00', '2009-01-15 12:00:00', '2009-01-15 12:00:00', '2009-01-15 12:00:00', '2009-01-15 12:00:00', '2009-01-15 12:00:00', '2009-01-15 12:00:00', '2009-01-15 12:00:00', '2009-01-15 12:00:00', '2009-01-15 12:00:00', '2009-01-15 12:00:00', '2009-01-15 12:00:00', '2009-01-15 12:00:00', '2009-01-15 12:00:00', '2009-01-15 12:00:00', '2009-01-15 12:00:00', '2009-01-15 12:00:00', '2009-01-15 12:00:00', '2009-01-15 12:00:00', '2009-01-15 12:00:00', '2009-01-15 12:00:00', '2009-01-15 12:00:00', '2009-01-15 12:00:00', '2009-01-15 12:00:00', '2009-01-15 12:00:00', '2009-01-15 12:00:00', '2009-01-15 12:00:00', '2009-01-15 12:00:00', '2009-01-15 12:00:00', '2009-01-15 12:00:00', '2009-01-15 12:00:00', '2009-01-15 12:00:00', '2009-01-15 12:00:00', '2009-01-15 12:00:00', '2009-01-15 12:00:00', '2009-01-15 12:00:00', '2009-01-15 12:00:00', '2009-01-15 12:00:00', '2009-01-15 12:00:00', '2009-01-15 12:00:00', '2009-01-15 12:00:00', '2009-01-15 12:00:00', '2009-01-15 12:00:00', '2009-01-15 12:00:00', '2009-01-15 12:00:00', '2009-01-15 12:00:00', '2009-01-15 12:00:00', '2009-01-15 12:00:00']\n"
     ]
    }
   ],
   "source": [
    "#making custom list that includes only the indices that have data we care about\n",
    "station_subset = []\n",
    "\n",
    "for i in range(len(levelcode)):\n",
    "    if levelcode[i] == 4 or levelcode[i] == 5:\n",
    "        station_subset.append(i)\n",
    "        \n",
    "print(station_subset)\n",
    "\n",
    "#making empty lists for final variables\n",
    "stationf = []\n",
    "utcf = []\n",
    "pressuref=[]\n",
    "levelcodef=[]\n",
    "heightf=[]\n",
    "tmpf=[]\n",
    "dwpf=[]\n",
    "wsf=[]\n",
    "bearingf=[]\n",
    "range_smf=[]\n",
    "\n",
    "# Filling the final lists with the data we care about\n",
    "j = 1  #random variable for use in a psuedo sub-loop\n",
    "\n",
    "for i in range(len(pressure)):\n",
    "    if i == station_subset[j]:\n",
    "        stationf.append(station[i])\n",
    "        utcf.append(UTC[i])\n",
    "        pressuref.append(pressure[i])\n",
    "        levelcodef.append(levelcode[i])\n",
    "        heightf.append(height[i])\n",
    "        tmpf.append(tmp[i])\n",
    "        dwpf.append(dwp[i])\n",
    "        wsf.append(ws[i])\n",
    "        bearingf.append(bearing[i])\n",
    "        range_smf.append(range_sm[i])\n",
    "        j += 1\n",
    "    else:\n",
    "        continue       \n",
    "\n",
    "print(levelcodef,utcf)"
   ]
  },
  {
   "cell_type": "markdown",
   "id": "0672b7d3",
   "metadata": {},
   "source": [
    "### CONVERT STRINGS ###\n",
    "Some data needs to be floating point numbers, some needs to be integers, some should stay as strings.\n",
    "\n",
    "Hint: You can leave the UTC time as a string and anything that needs NaNs will be a floating point."
   ]
  },
  {
   "cell_type": "code",
   "execution_count": 6,
   "id": "99b298a4",
   "metadata": {},
   "outputs": [
    {
     "name": "stdout",
     "output_type": "stream",
     "text": [
      "[-25.3, -24.1, -22.7, -22.9, -22.9, -21.3, -21.3, -22.5, -24.1, -23.1, -22.9, -23.3, -25.9, -34.3, -34.5, -34.5, -38.5, -38.7, -39.9, -54.7, -58.1, -58.3, -58.5, -57.7, -56.5, -56.7, -57.7, -57.5, -59.1, -59.7, -59.9, -58.7, -58.9, -59.5, -59.1, -62.5, -61.9, -62.7, -61.7, -61.5, -66.1, -65.9, -65.9, -69.3, -69.1, -68.1, -66.5, -67.9, -69.5, -69.5]\n"
     ]
    }
   ],
   "source": [
    "# Converting all tables to float\n",
    "\n",
    "for i in range(len(pressuref)):\n",
    "    if pressuref[i] == 'M':\n",
    "        pressuref[i] = np.nan\n",
    "    else:\n",
    "        pressuref[i] = float(pressuref[i])\n",
    "\n",
    "for i in range(len(heightf)):\n",
    "    if heightf[i] == 'M':\n",
    "        heightf[i] = np.nan\n",
    "    else:\n",
    "        heightf[i] = float(heightf[i])\n",
    "\n",
    "for i in range(len(tmpf)):\n",
    "    if tmpf[i] == 'M':\n",
    "        tmpf[i] = np.nan\n",
    "    else:\n",
    "        tmpf[i] = float(tmpf[i])\n",
    "\n",
    "for i in range(len(dwpf)):\n",
    "    if dwpf[i] == 'M':\n",
    "        dwpf[i] = np.nan\n",
    "    else:\n",
    "        dwpf[i] = float(dwpf[i])\n",
    "\n",
    "for i in range(len(wsf)):\n",
    "    if wsf[i] == 'M':\n",
    "        wsf[i] = np.nan\n",
    "    else:\n",
    "        wsf[i] = float(wsf[i])\n",
    "\n",
    "for i in range(len(bearingf)):\n",
    "    if bearingf[i] == 'M':\n",
    "        bearingf[i] = np.nan\n",
    "    else:\n",
    "        bearingf[i] = float(bearingf[i])\n",
    "\n",
    "for i in range(len(range_smf)):\n",
    "    if range_smf[i] == 'M':\n",
    "        range_smf[i] = np.nan\n",
    "    else:\n",
    "        range_smf[i] = float(range_smf[i])\n",
    "\n",
    "\n",
    "print(tmpf)"
   ]
  },
  {
   "cell_type": "markdown",
   "id": "550558da",
   "metadata": {},
   "source": [
    "### ADD UNITS ###\n",
    "Add units using metpy.\n",
    "\n",
    "Make sure to identify which variables need units.\n",
    "\n",
    "https://unidata.github.io/MetPy/latest/tutorials/unit_tutorial.html"
   ]
  },
  {
   "cell_type": "code",
   "execution_count": 7,
   "id": "d759caa8",
   "metadata": {},
   "outputs": [
    {
     "name": "stdout",
     "output_type": "stream",
     "text": [
      "[959.0 949.0 936.0 925.0 898.0 851.0 850.0 763.0 730.0 721.0 707.0 700.0 610.0 510.0 500.0 463.0 423.0 409.0 400.0 300.0 255.0 250.0 228.0 214.0 209.0 200.0 192.0 183.0 175.0 168.0 163.0 156.0 150.0 141.0 130.0 111.0 106.0 104.0 100.0 91.5 78.4 70.0 68.6 57.6 52.0 50.0 47.2 30.0 20.0 19.9] millibar\n"
     ]
    }
   ],
   "source": [
    "# Adding units\n",
    "\n",
    "pressuref = pressuref * units('millibar')\n",
    "heightf = heightf * units.meters\n",
    "tmpf = tmpf * units.degC\n",
    "dwpf = dwpf * units.degC\n",
    "wsf = wsf * units.knots\n",
    "bearingf = bearingf * units.deg\n",
    "#range_sm = range_sm * units.???\n",
    "print(pressuref)"
   ]
  },
  {
   "cell_type": "markdown",
   "id": "2de14125",
   "metadata": {},
   "source": [
    "### CONVERT WINDS TO U,V COMPONENTS ###\n",
    "For this, we will be using the metpy.calc.wind_components() function.  This has been imported as wind_components(). \n",
    "\n",
    "https://unidata.github.io/MetPy/latest/api/generated/metpy.calc.wind_components.html\n",
    "\n",
    "Please see the website above to understand how this function works."
   ]
  },
  {
   "cell_type": "code",
   "execution_count": 8,
   "id": "f439cc83",
   "metadata": {},
   "outputs": [
    {
     "name": "stdout",
     "output_type": "stream",
     "text": [
      "[nan nan nan 6.0 nan nan 10.0 nan nan nan nan 36.0 nan nan 73.0 nan nan nan 112.0 125.0 nan 117.0 nan nan nan 99.0 nan nan nan nan nan nan 101.0 nan nan nan nan nan 88.0 nan nan 97.0 nan nan nan 108.0 nan 115.0 111.0 nan] knot [nan nan nan 139.0 nan nan 135.0 nan nan nan nan 150.0 nan nan 153.0 nan nan nan 156.0 158.0 nan 159.0 nan nan nan 158.0 nan nan nan nan nan nan 158.0 nan nan nan nan nan 157.0 nan nan 155.0 nan nan nan 153.0 nan 150.0 148.0 nan] degree\n",
      "[nan nan nan 2.329536904287623 nan nan 3.637671552104128 nan nan nan nan 16.038790478087805 nan nan 33.46125501226961 nan nan nan 52.63645916834968 59.62307287005869 nan 56.19220587086658 nan nan nan 47.22147371308648 nan nan nan nan nan nan 48.17544287900742 nan nan nan nan nan 41.67227749896248 nan nan 45.2257655817811 nan nan nan 49.50432248390572 nan 51.23502513833605 48.42637311751911 nan] meter / second\n"
     ]
    }
   ],
   "source": [
    "print(wsf,bearingf)\n",
    "\n",
    "u,v = wind_components(wsf, bearingf)\n",
    "u = u.to(units.meters/units.second)\n",
    "v = v.to(units.meters/units.second)\n",
    "print(v)"
   ]
  },
  {
   "cell_type": "markdown",
   "id": "1a8467cf",
   "metadata": {},
   "source": [
    "### CONVERT U,V WINDS TO M/S ###"
   ]
  },
  {
   "cell_type": "code",
   "execution_count": null,
   "id": "9ba4b1b9",
   "metadata": {},
   "outputs": [],
   "source": []
  },
  {
   "cell_type": "markdown",
   "id": "b93037f8",
   "metadata": {},
   "source": [
    "### PRINT DATA ###\n",
    "Print the sounding location and the time of the sounding.\n",
    "\n",
    "Then for each 4 or 5 level-code level, print the pressure (in mb), height (in meters), temperature (in degrees Celsius), dewpoint temperature (in degrees Celsius), u and v wind components (in m/s) with commas separating each value.  Make sure to include units."
   ]
  },
  {
   "cell_type": "code",
   "execution_count": 9,
   "id": "5d171fd1",
   "metadata": {},
   "outputs": [
    {
     "name": "stdout",
     "output_type": "stream",
     "text": [
      "KBIS,2009-01-15 12:00:00\n",
      "959.0 millibar,649.0 meter,-25.3 degree_Celsius,-28.8 degree_Celsius,nan meter / second,nan meter / second\n",
      "949.0 millibar,726.0 meter,-24.1 degree_Celsius,-27.6 degree_Celsius,nan meter / second,nan meter / second\n",
      "936.0 millibar,826.0 meter,-22.7 degree_Celsius,-28.7 degree_Celsius,nan meter / second,nan meter / second\n",
      "925.0 millibar,915.0 meter,-22.9 degree_Celsius,-28.9 degree_Celsius,-2.0250355361506993 meter / second,2.329536904287623 meter / second\n",
      "898.0 millibar,1131.0 meter,-22.9 degree_Celsius,-28.9 degree_Celsius,nan meter / second,nan meter / second\n",
      "851.0 millibar,1526.0 meter,-21.3 degree_Celsius,-35.3 degree_Celsius,nan meter / second,nan meter / second\n",
      "850.0 millibar,1536.0 meter,-21.3 degree_Celsius,-35.3 degree_Celsius,-3.6376715521041283 meter / second,3.637671552104128 meter / second\n",
      "763.0 millibar,2328.0 meter,-22.5 degree_Celsius,-40.5 degree_Celsius,nan meter / second,nan meter / second\n",
      "730.0 millibar,2651.0 meter,-24.1 degree_Celsius,-41.1 degree_Celsius,nan meter / second,nan meter / second\n",
      "721.0 millibar,2741.0 meter,-23.1 degree_Celsius,-41.1 degree_Celsius,nan meter / second,nan meter / second\n",
      "707.0 millibar,2884.0 meter,-22.9 degree_Celsius,-41.9 degree_Celsius,nan meter / second,nan meter / second\n",
      "700.0 millibar,2961.0 meter,-23.3 degree_Celsius,-43.3 degree_Celsius,-9.259999999999998 meter / second,16.038790478087805 meter / second\n",
      "610.0 millibar,3960.0 meter,-25.9 degree_Celsius,-43.9 degree_Celsius,nan meter / second,nan meter / second\n",
      "510.0 millibar,5231.0 meter,-34.3 degree_Celsius,-52.3 degree_Celsius,nan meter / second,nan meter / second\n",
      "500.0 millibar,5370.0 meter,-34.5 degree_Celsius,-52.5 degree_Celsius,-17.049361000774383 meter / second,33.46125501226961 meter / second\n",
      "463.0 millibar,5906.0 meter,-34.5 degree_Celsius,-52.5 degree_Celsius,nan meter / second,nan meter / second\n",
      "423.0 millibar,6530.0 meter,-38.5 degree_Celsius,-53.5 degree_Celsius,nan meter / second,nan meter / second\n",
      "409.0 millibar,6761.0 meter,-38.7 degree_Celsius,-53.7 degree_Celsius,nan meter / second,nan meter / second\n",
      "400.0 millibar,6920.0 meter,-39.9 degree_Celsius,-54.9 degree_Celsius,-23.435261514820787 meter / second,52.63645916834968 meter / second\n",
      "300.0 millibar,8820.0 meter,-54.7 degree_Celsius,-66.7 degree_Celsius,-24.08928510438436 meter / second,59.62307287005869 meter / second\n",
      "255.0 millibar,9842.0 meter,-58.1 degree_Celsius,-69.1 degree_Celsius,nan meter / second,nan meter / second\n",
      "250.0 millibar,9970.0 meter,-58.3 degree_Celsius,-69.3 degree_Celsius,-21.570166883131623 meter / second,56.19220587086658 meter / second\n",
      "228.0 millibar,10548.0 meter,-58.5 degree_Celsius,-69.5 degree_Celsius,nan meter / second,nan meter / second\n",
      "214.0 millibar,10946.0 meter,-57.7 degree_Celsius,-68.7 degree_Celsius,nan meter / second,nan meter / second\n",
      "209.0 millibar,11095.0 meter,-56.5 degree_Celsius,-68.5 degree_Celsius,nan meter / second,nan meter / second\n",
      "200.0 millibar,11380.0 meter,-56.7 degree_Celsius,-68.7 degree_Celsius,-19.07871380267241 meter / second,47.22147371308648 meter / second\n",
      "192.0 millibar,11637.0 meter,-57.7 degree_Celsius,-69.7 degree_Celsius,nan meter / second,nan meter / second\n",
      "183.0 millibar,11939.0 meter,-57.5 degree_Celsius,-69.5 degree_Celsius,nan meter / second,nan meter / second\n",
      "175.0 millibar,12219.0 meter,-59.1 degree_Celsius,-70.1 degree_Celsius,nan meter / second,nan meter / second\n",
      "168.0 millibar,12474.0 meter,-59.7 degree_Celsius,-70.7 degree_Celsius,nan meter / second,nan meter / second\n",
      "163.0 millibar,12662.0 meter,-59.9 degree_Celsius,-70.9 degree_Celsius,nan meter / second,nan meter / second\n",
      "156.0 millibar,12936.0 meter,-58.7 degree_Celsius,-69.7 degree_Celsius,nan meter / second,nan meter / second\n",
      "150.0 millibar,13190.0 meter,-58.9 degree_Celsius,-69.9 degree_Celsius,-19.46414236434256 meter / second,48.17544287900742 meter / second\n",
      "141.0 millibar,13577.0 meter,-59.5 degree_Celsius,-70.5 degree_Celsius,nan meter / second,nan meter / second\n",
      "130.0 millibar,14084.0 meter,-59.1 degree_Celsius,-70.1 degree_Celsius,nan meter / second,nan meter / second\n",
      "111.0 millibar,15064.0 meter,-62.5 degree_Celsius,-73.5 degree_Celsius,nan meter / second,nan meter / second\n",
      "106.0 millibar,15348.0 meter,-61.9 degree_Celsius,-72.9 degree_Celsius,nan meter / second,nan meter / second\n",
      "104.0 millibar,15465.0 meter,-62.7 degree_Celsius,-73.7 degree_Celsius,nan meter / second,nan meter / second\n",
      "100.0 millibar,15710.0 meter,-61.7 degree_Celsius,-72.7 degree_Celsius,-17.68883233240775 meter / second,41.67227749896248 meter / second\n",
      "91.5 millibar,16259.0 meter,-61.5 degree_Celsius,-72.5 degree_Celsius,nan meter / second,nan meter / second\n",
      "78.4 millibar,17204.0 meter,-66.1 degree_Celsius,-76.1 degree_Celsius,nan meter / second,nan meter / second\n",
      "70.0 millibar,17900.0 meter,-65.9 degree_Celsius,-75.9 degree_Celsius,-21.089120836707288 meter / second,45.2257655817811 meter / second\n",
      "68.6 millibar,18022.0 meter,-65.9 degree_Celsius,-75.9 degree_Celsius,nan meter / second,nan meter / second\n",
      "57.6 millibar,19071.0 meter,-69.3 degree_Celsius,-79.3 degree_Celsius,nan meter / second,nan meter / second\n",
      "52.0 millibar,19680.0 meter,-69.1 degree_Celsius,-79.1 degree_Celsius,nan meter / second,nan meter / second\n",
      "50.0 millibar,19920.0 meter,-68.1 degree_Celsius,-78.1 degree_Celsius,-25.223712165529225 meter / second,49.50432248390572 meter / second\n",
      "47.2 millibar,20266.0 meter,-66.5 degree_Celsius,-76.5 degree_Celsius,nan meter / second,nan meter / second\n",
      "30.0 millibar,23000.0 meter,-67.9 degree_Celsius,-77.9 degree_Celsius,-29.580555555555556 meter / second,51.23502513833605 meter / second\n",
      "20.0 millibar,25420.0 meter,-69.5 degree_Celsius,-79.5 degree_Celsius,-30.260156385263446 meter / second,48.42637311751911 meter / second\n",
      "19.9 millibar,25450.0 meter,-69.5 degree_Celsius,-79.5 degree_Celsius,nan meter / second,nan meter / second\n"
     ]
    }
   ],
   "source": [
    "print(f\"{stationf[0]},{utcf[0]}\")\n",
    "#print(f\"{pressuref[0]},{heightf[0]},{tmpf[0]},{dwpf[0]},{u[0]},{v[0]}\")\n",
    "for i in range(len(tmpf)):\n",
    "    print(f\"{pressuref[i]},{heightf[i]},{tmpf[i]},{dwpf[i]},{u[i]},{v[i]}\")"
   ]
  },
  {
   "cell_type": "markdown",
   "id": "4217c837",
   "metadata": {},
   "source": [
    "### SAVE TO CSV FILE ###\n",
    "Save to CSV without units.  The CSV file should be named KBIS_sounding.csv. Include the following header:\n",
    "\n",
    "{STATION} - {VALID UTC}<br>\n",
    "pressure[mb],height[m],temperature[degC],dewpoint[degC],u-wind[m/s],v-wind[m/s]\n",
    "\n",
    "Make sure that the winds are limited to 2 decimal places."
   ]
  },
  {
   "cell_type": "code",
   "execution_count": 14,
   "id": "db90e6ca-c80b-41d0-af99-41b60672c5d6",
   "metadata": {},
   "outputs": [],
   "source": [
    "with open(\"KBIS_sounding.csv\",\"w\") as outfile:\n",
    "    outfile.write(f\"{stationf[0]} - {utcf[0]}\\n\")\n",
    "    outfile.write(f\"pressure[mb],height[m],temperature[degC],dewpoint[degC],u-wind[m/s],v-wind[m/s]\\n\")\n",
    "    for i in range(len(pressuref)):\n",
    "        outfile.write(f\"{pressuref[i].magnitude},\")\n",
    "        outfile.write(f\"{heightf[i].magnitude},\")\n",
    "        outfile.write(f\"{tmpf[i].magnitude},\")\n",
    "        outfile.write(f\"{dwpf[i].magnitude},\")\n",
    "        outfile.write(f\"{round(u[i].magnitude,2)},\")\n",
    "        outfile.write(f\"{v[i].magnitude:0.2f}\\n\")\n",
    "    #for i in range(len(tmpf)):\n",
    "    #    outfile.write(f\"{pressuref[i]},{heightf[i]},{tmpf[i]},{dwpf[i]},{u[i]},{v[i]}\\n\")\n",
    "    \n",
    "#out_file = open(\"KBIS_sounding.csv\",\"w\")\n",
    "#write to file\n",
    "#outfile.write()\n",
    "#close file\n",
    "outfile.close()"
   ]
  },
  {
   "cell_type": "markdown",
   "id": "cccc9432",
   "metadata": {},
   "source": [
    "### OPEN THE CSV FILE IN NUMPY ###\n",
    "\n",
    "Here, we are going to use the numpy genfromtxt() function - np.genfromtxt()\n",
    "\n",
    "https://numpy.org/doc/stable/reference/generated/numpy.genfromtxt.html\n",
    "\n",
    "use the names press,height,temp,dwpt,u,v"
   ]
  },
  {
   "cell_type": "code",
   "execution_count": 18,
   "id": "034b96c9-867e-4ac3-a5cb-998905be6ab3",
   "metadata": {},
   "outputs": [
    {
     "name": "stdout",
     "output_type": "stream",
     "text": [
      "[   nan    nan    nan  -2.03    nan    nan  -3.64    nan    nan    nan\n",
      "    nan  -9.26    nan    nan -17.05    nan    nan    nan -23.44 -24.09\n",
      "    nan -21.57    nan    nan    nan -19.08    nan    nan    nan    nan\n",
      "    nan    nan -19.46    nan    nan    nan    nan    nan -17.69    nan\n",
      "    nan -21.09    nan    nan    nan -25.22    nan -29.58 -30.26    nan]\n"
     ]
    }
   ],
   "source": [
    "datanp = np.genfromtxt(\"KBIS_sounding.csv\",delimiter=\",\",skip_header=2,names = \"press,height,temp,dwpt,u,v\")\n",
    "print(datanp['u'])"
   ]
  },
  {
   "cell_type": "code",
   "execution_count": 22,
   "id": "0db560cc",
   "metadata": {},
   "outputs": [
    {
     "name": "stdout",
     "output_type": "stream",
     "text": [
      "[(nan, nan, 9., 979. ,   503., -35.7, -39.8,   0.,   0.,   0.)\n",
      " (nan, nan, 5., 959. ,   649., -25.3, -28.8,  nan,  nan,  nan)\n",
      " (nan, nan, 5., 949. ,   726., -24.1, -27.6,  nan,  nan,  nan)\n",
      " (nan, nan, 5., 936. ,   826., -22.7, -28.7,  nan,  nan,  nan)\n",
      " (nan, nan, 6., 925.1,   914.,   nan,   nan, 280.,   6., 139.)\n",
      " (nan, nan, 4., 925. ,   915., -22.9, -28.9, 285.,   6., 139.)\n",
      " (nan, nan, 5., 898. ,  1131., -22.9, -28.9,  nan,  nan,  nan)\n",
      " (nan, nan, 6., 887.3,  1219.,   nan,   nan, 320.,  10., 127.)\n",
      " (nan, nan, 5., 851. ,  1526., -21.3, -35.3,  nan,  nan,  nan)\n",
      " (nan, nan, 4., 850. ,  1536., -21.3, -35.3, 330.,  10., 135.)\n",
      " (nan, nan, 6., 816.8,  1828.,   nan,   nan, 320.,  15., 139.)\n",
      " (nan, nan, 6., 783.6,  2133.,   nan,   nan, 335.,  17., 141.)\n",
      " (nan, nan, 5., 763. ,  2328., -22.5, -40.5,  nan,  nan,  nan)\n",
      " (nan, nan, 6., 751.6,  2438.,   nan,   nan, 340.,  22., 145.)\n",
      " (nan, nan, 5., 730. ,  2651., -24.1, -41.1,  nan,  nan,  nan)\n",
      " (nan, nan, 5., 721. ,  2741., -23.1, -41.1,  nan,  nan,  nan)\n",
      " (nan, nan, 6., 720.8,  2743.,   nan,   nan, 335.,  32., 149.)\n",
      " (nan, nan, 5., 707. ,  2884., -22.9, -41.9,  nan,  nan,  nan)\n",
      " (nan, nan, 4., 700. ,  2961., -23.3, -43.3, 335.,  36., 150.)\n",
      " (nan, nan, 6., 636. ,  3657.,   nan,   nan, 335.,  50., 152.)\n",
      " (nan, nan, 5., 610. ,  3960., -25.9, -43.9,  nan,  nan,  nan)\n",
      " (nan, nan, 6., 584.2,  4267.,   nan,   nan, 335.,  62., 153.)\n",
      " (nan, nan, 6., 536.2,  4876.,   nan,   nan, 335.,  67., 153.)\n",
      " (nan, nan, 6., 513.6,  5181.,   nan,   nan, 335.,  69., 153.)\n",
      " (nan, nan, 5., 510. ,  5231., -34.3, -52.3,  nan,  nan,  nan)\n",
      " (nan, nan, 4., 500. ,  5370., -34.5, -52.5, 335.,  73., 153.)\n",
      " (nan, nan, 5., 463. ,  5906., -34.5, -52.5,  nan,  nan,  nan)\n",
      " (nan, nan, 6., 450.4,  6096.,   nan,   nan, 340.,  94., 154.)\n",
      " (nan, nan, 5., 423. ,  6530., -38.5, -53.5,  nan,  nan,  nan)\n",
      " (nan, nan, 5., 409. ,  6761., -38.7, -53.7,  nan,  nan,  nan)\n",
      " (nan, nan, 4., 400. ,  6920., -39.9, -54.9, 340., 112., 156.)\n",
      " (nan, nan, 6., 394.6,  7010.,   nan,   nan, 340., 112., 156.)\n",
      " (nan, nan, 6., 359.8,  7620.,   nan,   nan, 340., 118., 156.)\n",
      " (nan, nan, 4., 300. ,  8820., -54.7, -66.7, 345., 125., 158.)\n",
      " (nan, nan, 6., 284.9,  9144.,   nan,   nan, 345., 131., 158.)\n",
      " (nan, nan, 6., 274. ,  9391.,   nan,   nan, 340., 132., 158.)\n",
      " (nan, nan, 6., 271.5,  9448.,   nan,   nan, 340., 132., 158.)\n",
      " (nan, nan, 5., 255. ,  9842., -58.1, -69.1,  nan,  nan,  nan)\n",
      " (nan, nan, 4., 250. ,  9970., -58.3, -69.3, 340., 117., 159.)\n",
      " (nan, nan, 5., 228. , 10548., -58.5, -69.5,  nan,  nan,  nan)\n",
      " (nan, nan, 5., 214. , 10946., -57.7, -68.7,  nan,  nan,  nan)\n",
      " (nan, nan, 5., 209. , 11095., -56.5, -68.5,  nan,  nan,  nan)\n",
      " (nan, nan, 6., 203.2, 11277.,   nan,   nan, 335.,  98., 158.)\n",
      " (nan, nan, 4., 200. , 11380., -56.7, -68.7, 335.,  99., 158.)\n",
      " (nan, nan, 5., 192. , 11637., -57.7, -69.7,  nan,  nan,  nan)\n",
      " (nan, nan, 5., 183. , 11939., -57.5, -69.5,  nan,  nan,  nan)\n",
      " (nan, nan, 5., 175. , 12219., -59.1, -70.1,  nan,  nan,  nan)\n",
      " (nan, nan, 5., 168. , 12474., -59.7, -70.7,  nan,  nan,  nan)\n",
      " (nan, nan, 5., 163. , 12662., -59.9, -70.9,  nan,  nan,  nan)\n",
      " (nan, nan, 6., 159.4, 12801.,   nan,   nan, 335., 106., 158.)\n",
      " (nan, nan, 5., 156. , 12936., -58.7, -69.7,  nan,  nan,  nan)\n",
      " (nan, nan, 4., 150. , 13190., -58.9, -69.9, 340., 101., 158.)\n",
      " (nan, nan, 5., 141. , 13577., -59.5, -70.5,  nan,  nan,  nan)\n",
      " (nan, nan, 5., 130. , 14084., -59.1, -70.1,  nan,  nan,  nan)\n",
      " (nan, nan, 5., 111. , 15064., -62.5, -73.5,  nan,  nan,  nan)\n",
      " (nan, nan, 6., 107.9, 15240.,   nan,   nan, 330.,  93., 157.)\n",
      " (nan, nan, 5., 106. , 15348., -61.9, -72.9,  nan,  nan,  nan)\n",
      " (nan, nan, 5., 104. , 15465., -62.7, -73.7,  nan,  nan,  nan)\n",
      " (nan, nan, 4., 100. , 15710., -61.7, -72.7, 325.,  88., 157.)\n",
      " (nan, nan, 5.,  91.5, 16259., -61.5, -72.5,  nan,  nan,  nan)\n",
      " (nan, nan, 5.,  78.4, 17204., -66.1, -76.1,  nan,  nan,  nan)\n",
      " (nan, nan, 6.,  76.3, 17373.,   nan,   nan, 320.,  86., 155.)\n",
      " (nan, nan, 4.,  70. , 17900., -65.9, -75.9, 315.,  97., 155.)\n",
      " (nan, nan, 5.,  68.6, 18022., -65.9, -75.9,  nan,  nan,  nan)\n",
      " (nan, nan, 6.,  65.6, 18288.,   nan,   nan, 315., 102., 154.)\n",
      " (nan, nan, 5.,  57.6, 19071., -69.3, -79.3,  nan,  nan,  nan)\n",
      " (nan, nan, 6.,  53.5, 19507.,   nan,   nan, 325., 113., 153.)\n",
      " (nan, nan, 5.,  52. , 19680., -69.1, -79.1,  nan,  nan,  nan)\n",
      " (nan, nan, 4.,  50. , 19920., -68.1, -78.1, 320., 108., 153.)\n",
      " (nan, nan, 5.,  47.2, 20266., -66.5, -76.5,  nan,  nan,  nan)\n",
      " (nan, nan, 6.,  41.6, 21031.,   nan,   nan, 320., 100., 152.)\n",
      " (nan, nan, 6.,  39.5, 21336.,   nan,   nan, 315., 103., 151.)\n",
      " (nan, nan, 6.,  30.7, 22860.,   nan,   nan, 315., 115., 150.)\n",
      " (nan, nan, 6.,  30.1, 22979.,   nan,   nan, 315., 115., 150.)\n",
      " (nan, nan, 4.,  30. , 23000., -67.9, -77.9, 315., 115., 150.)\n",
      " (nan, nan, 6.,  23.8, 24384.,   nan,   nan, 315.,  98., 149.)\n",
      " (nan, nan, 6.,  20.4, 25298.,   nan,   nan, 310., 110., 148.)\n",
      " (nan, nan, 4.,  20. , 25420., -69.5, -79.5, 315., 111., 148.)\n",
      " (nan, nan, 5.,  19.9, 25450., -69.5, -79.5,  nan,  nan,  nan)]\n"
     ]
    }
   ],
   "source": [
    "print(np.genfromtxt(\"KBIS_2009011512.txt\",delimiter=\",\",skip_header = 2,names = \"station,UTC,levelcode,pressure,height,temp,dwpt,windspeed,bearing,range_sm\",missing_values = 'M',filling_values=float('NaN'),autostrip=True))"
   ]
  },
  {
   "cell_type": "markdown",
   "id": "717119e8",
   "metadata": {},
   "source": [
    "### RUN THE CELL BELOW ###\n",
    "If the code above was correct, it should print out the pressure as an array, then temperature as an array, and finally, u-wind component as an array - all with units.\n",
    "\n",
    "Note that the units are now outside the array instead of applied to each element as they were in the list."
   ]
  },
  {
   "cell_type": "code",
   "execution_count": null,
   "id": "2d50731a",
   "metadata": {},
   "outputs": [],
   "source": []
  },
  {
   "cell_type": "markdown",
   "id": "c73a0ad7",
   "metadata": {},
   "source": [
    "### OPEN THE CSV FILE IN PANDAS ###\n",
    "Now we are going to open the CSV file into a pandas dataframe.\n",
    "\n",
    "Dataframes are somewhat like arrays but a bit more complicated.\n",
    "\n",
    "Here, we will use the pandas.read_csv() function - pd.read_csv()\n",
    "\n",
    "Use the same names as above.\n",
    "\n",
    "https://pandas.pydata.org/docs/reference/api/pandas.read_csv.html"
   ]
  },
  {
   "cell_type": "code",
   "execution_count": 20,
   "id": "3299a386",
   "metadata": {},
   "outputs": [
    {
     "name": "stdout",
     "output_type": "stream",
     "text": [
      "    pressure[mb]  height[m]  temperature[degC]  dewpoint[degC]  u-wind[m/s]  \\\n",
      "0          959.0      649.0              -25.3           -28.8          NaN   \n",
      "1          949.0      726.0              -24.1           -27.6          NaN   \n",
      "2          936.0      826.0              -22.7           -28.7          NaN   \n",
      "3          925.0      915.0              -22.9           -28.9        -2.03   \n",
      "4          898.0     1131.0              -22.9           -28.9          NaN   \n",
      "5          851.0     1526.0              -21.3           -35.3          NaN   \n",
      "6          850.0     1536.0              -21.3           -35.3        -3.64   \n",
      "7          763.0     2328.0              -22.5           -40.5          NaN   \n",
      "8          730.0     2651.0              -24.1           -41.1          NaN   \n",
      "9          721.0     2741.0              -23.1           -41.1          NaN   \n",
      "10         707.0     2884.0              -22.9           -41.9          NaN   \n",
      "11         700.0     2961.0              -23.3           -43.3        -9.26   \n",
      "12         610.0     3960.0              -25.9           -43.9          NaN   \n",
      "13         510.0     5231.0              -34.3           -52.3          NaN   \n",
      "14         500.0     5370.0              -34.5           -52.5       -17.05   \n",
      "15         463.0     5906.0              -34.5           -52.5          NaN   \n",
      "16         423.0     6530.0              -38.5           -53.5          NaN   \n",
      "17         409.0     6761.0              -38.7           -53.7          NaN   \n",
      "18         400.0     6920.0              -39.9           -54.9       -23.44   \n",
      "19         300.0     8820.0              -54.7           -66.7       -24.09   \n",
      "20         255.0     9842.0              -58.1           -69.1          NaN   \n",
      "21         250.0     9970.0              -58.3           -69.3       -21.57   \n",
      "22         228.0    10548.0              -58.5           -69.5          NaN   \n",
      "23         214.0    10946.0              -57.7           -68.7          NaN   \n",
      "24         209.0    11095.0              -56.5           -68.5          NaN   \n",
      "25         200.0    11380.0              -56.7           -68.7       -19.08   \n",
      "26         192.0    11637.0              -57.7           -69.7          NaN   \n",
      "27         183.0    11939.0              -57.5           -69.5          NaN   \n",
      "28         175.0    12219.0              -59.1           -70.1          NaN   \n",
      "29         168.0    12474.0              -59.7           -70.7          NaN   \n",
      "30         163.0    12662.0              -59.9           -70.9          NaN   \n",
      "31         156.0    12936.0              -58.7           -69.7          NaN   \n",
      "32         150.0    13190.0              -58.9           -69.9       -19.46   \n",
      "33         141.0    13577.0              -59.5           -70.5          NaN   \n",
      "34         130.0    14084.0              -59.1           -70.1          NaN   \n",
      "35         111.0    15064.0              -62.5           -73.5          NaN   \n",
      "36         106.0    15348.0              -61.9           -72.9          NaN   \n",
      "37         104.0    15465.0              -62.7           -73.7          NaN   \n",
      "38         100.0    15710.0              -61.7           -72.7       -17.69   \n",
      "39          91.5    16259.0              -61.5           -72.5          NaN   \n",
      "40          78.4    17204.0              -66.1           -76.1          NaN   \n",
      "41          70.0    17900.0              -65.9           -75.9       -21.09   \n",
      "42          68.6    18022.0              -65.9           -75.9          NaN   \n",
      "43          57.6    19071.0              -69.3           -79.3          NaN   \n",
      "44          52.0    19680.0              -69.1           -79.1          NaN   \n",
      "45          50.0    19920.0              -68.1           -78.1       -25.22   \n",
      "46          47.2    20266.0              -66.5           -76.5          NaN   \n",
      "47          30.0    23000.0              -67.9           -77.9       -29.58   \n",
      "48          20.0    25420.0              -69.5           -79.5       -30.26   \n",
      "49          19.9    25450.0              -69.5           -79.5          NaN   \n",
      "\n",
      "    v-wind[m/s]  \n",
      "0           NaN  \n",
      "1           NaN  \n",
      "2           NaN  \n",
      "3          2.33  \n",
      "4           NaN  \n",
      "5           NaN  \n",
      "6          3.64  \n",
      "7           NaN  \n",
      "8           NaN  \n",
      "9           NaN  \n",
      "10          NaN  \n",
      "11        16.04  \n",
      "12          NaN  \n",
      "13          NaN  \n",
      "14        33.46  \n",
      "15          NaN  \n",
      "16          NaN  \n",
      "17          NaN  \n",
      "18        52.64  \n",
      "19        59.62  \n",
      "20          NaN  \n",
      "21        56.19  \n",
      "22          NaN  \n",
      "23          NaN  \n",
      "24          NaN  \n",
      "25        47.22  \n",
      "26          NaN  \n",
      "27          NaN  \n",
      "28          NaN  \n",
      "29          NaN  \n",
      "30          NaN  \n",
      "31          NaN  \n",
      "32        48.18  \n",
      "33          NaN  \n",
      "34          NaN  \n",
      "35          NaN  \n",
      "36          NaN  \n",
      "37          NaN  \n",
      "38        41.67  \n",
      "39          NaN  \n",
      "40          NaN  \n",
      "41        45.23  \n",
      "42          NaN  \n",
      "43          NaN  \n",
      "44          NaN  \n",
      "45        49.50  \n",
      "46          NaN  \n",
      "47        51.24  \n",
      "48        48.43  \n",
      "49          NaN  \n"
     ]
    }
   ],
   "source": [
    "print(pd.read_csv(\"KBIS_sounding.csv\",header=1))"
   ]
  },
  {
   "cell_type": "markdown",
   "id": "6eeb0151",
   "metadata": {},
   "source": [
    "### NOW PRINT THE DATAFRAME ###\n",
    "If done correctly, you should see the column names auto-populated."
   ]
  },
  {
   "cell_type": "code",
   "execution_count": null,
   "id": "f053bec3",
   "metadata": {},
   "outputs": [],
   "source": []
  }
 ],
 "metadata": {
  "kernelspec": {
   "display_name": "Python 3 (ipykernel)",
   "language": "python",
   "name": "python3"
  },
  "language_info": {
   "codemirror_mode": {
    "name": "ipython",
    "version": 3
   },
   "file_extension": ".py",
   "mimetype": "text/x-python",
   "name": "python",
   "nbconvert_exporter": "python",
   "pygments_lexer": "ipython3",
   "version": "3.11.7"
  }
 },
 "nbformat": 4,
 "nbformat_minor": 5
}
