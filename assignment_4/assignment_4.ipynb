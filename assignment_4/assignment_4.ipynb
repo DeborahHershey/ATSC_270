{
 "cells": [
  {
   "cell_type": "markdown",
   "id": "bd61f82f",
   "metadata": {},
   "source": [
    "# ASSIGNMENT #4 - SURFACE WEATHER DATA #\n",
    "Due: 31 March 2024 @ 11:59p"
   ]
  },
  {
   "cell_type": "markdown",
   "id": "816b3dd4",
   "metadata": {},
   "source": [
    "Purpose:\\\n",
    "The purpose of this assignment is to continue to strengthen skills with reading in data by reading in surface observations from a text file.  The data is then plotted on a map to begin to familiarize with plotting weather data on maps.\n",
    "\n",
    "Overview:\\\n",
    "In this assignment you will read in surface weather data, quality control that data, and plot that data .\n",
    "\n",
    "\n",
    "| | UPDATE TO YOUR INFORMATION | \n",
    "| :- | :- |\n",
    "| Created By | Jared W. Marquis |\n",
    "| Creation Date | 18 January 2024 |\n",
    "| Course | ATSC 270 - Computer Concepts in Meteorology |"
   ]
  },
  {
   "cell_type": "code",
   "execution_count": null,
   "id": "eb870142",
   "metadata": {},
   "outputs": [],
   "source": [
    "### UPDATE TO YOUR INFORMATION ###\n",
    "#information allowing anyone with the code to print the author and contact information\n",
    "__author__    = \"Jared W. Marquis\"\n",
    "__contact__   = \"jared.marquis@und.edu\""
   ]
  },
  {
   "cell_type": "markdown",
   "id": "7dec3f1b",
   "metadata": {},
   "source": [
    "### IMPORT REQUIRED LIBRARIES ###"
   ]
  },
  {
   "cell_type": "code",
   "execution_count": null,
   "id": "b4b5cb45",
   "metadata": {},
   "outputs": [],
   "source": [
    "import numpy as np\n",
    "\n",
    "import metpy.calc as mpcalc\n",
    "from metpy.units import units\n",
    "from metpy.plots import current_weather, sky_cover, StationPlot, simple_layout\n",
    "from metpy.io import metar\n",
    "\n",
    "import pandas as pd\n",
    "\n",
    "import matplotlib.pyplot as plt\n",
    "\n",
    "import cartopy.crs as ccrs\n",
    "import cartopy.feature as cfeature"
   ]
  },
  {
   "cell_type": "markdown",
   "id": "1df8fe8f",
   "metadata": {},
   "source": [
    "### OPEN OBSERVATIONS TEXT FILE ###\n",
    "Open the text file containing the surface observations using the metpy metar reader -> metar.parse_metar_file(filename)."
   ]
  },
  {
   "cell_type": "code",
   "execution_count": null,
   "id": "808daf73",
   "metadata": {},
   "outputs": [],
   "source": []
  },
  {
   "cell_type": "markdown",
   "id": "7c16f59b",
   "metadata": {},
   "source": [
    "### REMOVE DATA THAT IS INCOMPLETE ###\n",
    "Just remove data with no wind direction or wind speed."
   ]
  },
  {
   "cell_type": "code",
   "execution_count": null,
   "id": "11986b6a",
   "metadata": {
    "scrolled": true
   },
   "outputs": [],
   "source": []
  },
  {
   "cell_type": "markdown",
   "id": "433c0828",
   "metadata": {},
   "source": [
    "### PLOT MAP ###"
   ]
  },
  {
   "cell_type": "code",
   "execution_count": null,
   "id": "bd3f91d8",
   "metadata": {},
   "outputs": [],
   "source": [
    "#map projection jusing a Lambert Conformal Projection\n",
    "#we'll center the map at 100W,35N\n",
    "proj = ccrs.LambertConformal(central_longitude=-100,central_latitude=35)\n",
    "\n",
    "#create 10\" x 10\" figure with a dpi=100\n",
    "\n",
    "#add subplot with projection\n",
    "ax = fig.add_subplot(1,1,1,projection=proj)\n",
    "\n",
    "#add elements to make map more useable\n",
    "ax.add_feature(cfeature.LAND)\n",
    "ax.add_feature(cfeature.OCEAN)\n",
    "ax.add_feature(cfeature.LAKES)\n",
    "ax.add_feature(cfeature.COASTLINE)\n",
    "ax.add_feature(cfeature.STATES)\n",
    "ax.add_feature(cfeature.BORDERS)\n",
    "\n",
    "#zoom on the CONUS\n",
    "#lon_min = -120\n",
    "#lon_max = -75\n",
    "#lat_min = 23\n",
    "#lat_max = 50\n",
    "ax.set_extent((-120, -75, 23, 50))\n",
    "\n",
    "fig.tight_layout()\n",
    "\n",
    "#save the map as empty_map.png\n"
   ]
  },
  {
   "cell_type": "markdown",
   "id": "15531a05",
   "metadata": {},
   "source": [
    "### PLOT A NEW MAP BUT ADD SURFACE OBS LOCATIONS ###"
   ]
  },
  {
   "cell_type": "code",
   "execution_count": null,
   "id": "a182606a",
   "metadata": {},
   "outputs": [],
   "source": [
    "\n",
    "\n",
    "#plot surface obs using scatter plot\n",
    "\n",
    "\n",
    "fig.tight_layout()\n",
    "#save the map as obs_locations.png\n"
   ]
  },
  {
   "cell_type": "markdown",
   "id": "f1ad0c17",
   "metadata": {},
   "source": [
    "### WAY TOO MANY OBS ###\n",
    "There are way too many obs for us to be able to actually see what the weather is.  We need to \"thin\" the obs in areas of very high densiy.\n",
    "\n",
    "We'll do this using the *metpy.calc.reduce_point_density* function.\n",
    "\n",
    "Find a density that works well for you.  The units for density are meters, so 100000 is roughly one observation/100km.\n"
   ]
  },
  {
   "cell_type": "code",
   "execution_count": null,
   "id": "49801c96",
   "metadata": {},
   "outputs": [],
   "source": [
    "#first convert the lat/lon to map projection coordinates\n",
    "locs = proj.transform_points(ccrs.PlateCarree(),data['longitude'].values,data['latitude'].values)\n",
    "\n",
    "#now thin the data\n"
   ]
  },
  {
   "cell_type": "markdown",
   "id": "ecc881a4",
   "metadata": {},
   "source": [
    "### SAVE OBS LOCATIONS ON NEW MAP ###"
   ]
  },
  {
   "cell_type": "code",
   "execution_count": null,
   "id": "fa8c8d29",
   "metadata": {},
   "outputs": [],
   "source": [
    "#save the map as obs_locations_thinned.png\n"
   ]
  },
  {
   "cell_type": "markdown",
   "id": "06ba3914",
   "metadata": {},
   "source": [
    "### ONCE YOU'RE HAPPY WITH THE DENSITY, PLOT SURFACE STATIONS ###\n",
    "For this use the *StationPlot* object in metpy -> https://unidata.github.io/MetPy/latest/api/generated/metpy.plots.StationPlot.html"
   ]
  },
  {
   "cell_type": "code",
   "execution_count": null,
   "id": "35974330",
   "metadata": {},
   "outputs": [],
   "source": [
    "#save the map as simple_surface_obs.png\n"
   ]
  },
  {
   "cell_type": "markdown",
   "id": "21faa23a",
   "metadata": {},
   "source": [
    "### PLOT NORTHERN PLAINS ###\n",
    "Now we are going to focus on the Northern Great Plains and make a custom layout.<br>\n",
    "We will set the extent to 150W to 90W and 40N to 50N.<br>\n",
    "We will also need to re-thin the data since we will be zoomed in and can see more obs.<br><br>\n",
    "Data that will be plotted:<br>\n",
    " - Temperature in the top left\n",
    " - Dewpoint in bottom left\n",
    " - Pressure in top right\n",
    " - Station ID in bottom right\n",
    " - Current weather on left\n",
    " - Visibility in miles on far left\n",
    " - Wind barb in black\n",
    " - Wind gust barb in red"
   ]
  },
  {
   "cell_type": "code",
   "execution_count": null,
   "id": "5b08f2da",
   "metadata": {},
   "outputs": [],
   "source": [
    "#rethin data (90km works well)\n"
   ]
  },
  {
   "cell_type": "code",
   "execution_count": null,
   "id": "d6b0ab89",
   "metadata": {},
   "outputs": [],
   "source": [
    "#create wind gust vectors\n",
    "#do this by multiplying each component by the ratio of gust to speed\n"
   ]
  },
  {
   "cell_type": "code",
   "execution_count": null,
   "id": "b4fac4f9",
   "metadata": {},
   "outputs": [],
   "source": [
    "#map projection\n",
    "proj = ccrs.LambertConformal(central_longitude=-95,central_latitude=35)\n",
    "\n",
    "#create figure\n",
    "fig = plt.figure(figsize=(10,10),dpi=100)\n",
    "ax = fig.add_subplot(1,1,1,projection=proj)\n",
    "\n",
    "#add elements to make map more useable\n",
    "ax.add_feature(cfeature.COASTLINE)\n",
    "ax.add_feature(cfeature.STATES)\n",
    "ax.add_feature(cfeature.BORDERS)\n",
    "\n",
    "#zoom on the Northern Plains\n",
    "ax.set_extent((-105, -90, 40, 50))\n",
    "\n",
    "\n",
    "#create stationplot (will actually need to create 2 to handle wind gusts)\n",
    "\n",
    "#temperature in red\n",
    "\n",
    "#dewpoint in dark green\n",
    "\n",
    "#pressure (need to format to be the final 3 digits)\n",
    "\n",
    "#station ID in dark blue\n",
    "\n",
    "#visibility in black (need to convert from meters to miles)\n",
    "\n",
    "#wind gust in red\n",
    "\n",
    "#wind in black\n",
    "\n",
    "#cloud cover\n",
    "\n",
    "#current weather\n",
    "\n",
    "#save the map as surface_obs.png\n"
   ]
  },
  {
   "cell_type": "code",
   "execution_count": null,
   "id": "1cd669dc",
   "metadata": {},
   "outputs": [],
   "source": []
  }
 ],
 "metadata": {
  "kernelspec": {
   "display_name": "Python 3 (ipykernel)",
   "language": "python",
   "name": "python3"
  },
  "language_info": {
   "codemirror_mode": {
    "name": "ipython",
    "version": 3
   },
   "file_extension": ".py",
   "mimetype": "text/x-python",
   "name": "python",
   "nbconvert_exporter": "python",
   "pygments_lexer": "ipython3",
   "version": "3.11.7"
  }
 },
 "nbformat": 4,
 "nbformat_minor": 5
}
